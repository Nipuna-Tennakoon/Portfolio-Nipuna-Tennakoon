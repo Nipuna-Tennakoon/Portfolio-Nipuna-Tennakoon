{
  "nbformat": 4,
  "nbformat_minor": 0,
  "metadata": {
    "colab": {
      "provenance": [],
      "gpuType": "T4"
    },
    "kernelspec": {
      "name": "python3",
      "display_name": "Python 3"
    },
    "language_info": {
      "name": "python"
    },
    "accelerator": "GPU"
  },
  "cells": [
    {
      "cell_type": "code",
      "execution_count": null,
      "metadata": {
        "id": "-4x2jAefPdKL"
      },
      "outputs": [],
      "source": [
        "import pandas as pd\n",
        "import difflib\n",
        "import sklearn\n",
        "from sklearn.preprocessing import StandardScaler\n",
        "from sklearn.preprocessing import LabelEncoder\n",
        "from sklearn.feature_extraction.text import TfidfVectorizer\n",
        "import numpy as np\n",
        "from sklearn.metrics.pairwise import cosine_similarity"
      ]
    },
    {
      "cell_type": "code",
      "source": [
        "from google.colab import drive\n",
        "drive.mount('/content/drive')"
      ],
      "metadata": {
        "id": "BK19l_0DlPNy"
      },
      "execution_count": null,
      "outputs": []
    },
    {
      "cell_type": "code",
      "source": [
        "df = pd.read_csv('/content/movies.csv')"
      ],
      "metadata": {
        "id": "pJQMwHRjP6mj"
      },
      "execution_count": null,
      "outputs": []
    },
    {
      "cell_type": "code",
      "source": [
        "df.head()"
      ],
      "metadata": {
        "colab": {
          "base_uri": "https://localhost:8080/",
          "height": 764
        },
        "id": "5hUrZIh-Q8Ai",
        "outputId": "1ef27d52-9914-4920-8ccc-4091f4c63f73"
      },
      "execution_count": null,
      "outputs": [
        {
          "output_type": "execute_result",
          "data": {
            "text/plain": [
              "   index     budget  ...                                               crew           director\n",
              "0      0  237000000  ...  [{'name': 'Stephen E. Rivkin', 'gender': 0, 'd...      James Cameron\n",
              "1      1  300000000  ...  [{'name': 'Dariusz Wolski', 'gender': 2, 'depa...     Gore Verbinski\n",
              "2      2  245000000  ...  [{'name': 'Thomas Newman', 'gender': 2, 'depar...         Sam Mendes\n",
              "3      3  250000000  ...  [{'name': 'Hans Zimmer', 'gender': 2, 'departm...  Christopher Nolan\n",
              "4      4  260000000  ...  [{'name': 'Andrew Stanton', 'gender': 2, 'depa...     Andrew Stanton\n",
              "\n",
              "[5 rows x 24 columns]"
            ],
            "text/html": [
              "\n",
              "  <div id=\"df-ca48b070-d4e2-4731-a59f-74b284911630\" class=\"colab-df-container\">\n",
              "    <div>\n",
              "<style scoped>\n",
              "    .dataframe tbody tr th:only-of-type {\n",
              "        vertical-align: middle;\n",
              "    }\n",
              "\n",
              "    .dataframe tbody tr th {\n",
              "        vertical-align: top;\n",
              "    }\n",
              "\n",
              "    .dataframe thead th {\n",
              "        text-align: right;\n",
              "    }\n",
              "</style>\n",
              "<table border=\"1\" class=\"dataframe\">\n",
              "  <thead>\n",
              "    <tr style=\"text-align: right;\">\n",
              "      <th></th>\n",
              "      <th>index</th>\n",
              "      <th>budget</th>\n",
              "      <th>genres</th>\n",
              "      <th>homepage</th>\n",
              "      <th>id</th>\n",
              "      <th>keywords</th>\n",
              "      <th>original_language</th>\n",
              "      <th>original_title</th>\n",
              "      <th>overview</th>\n",
              "      <th>popularity</th>\n",
              "      <th>production_companies</th>\n",
              "      <th>production_countries</th>\n",
              "      <th>release_date</th>\n",
              "      <th>revenue</th>\n",
              "      <th>runtime</th>\n",
              "      <th>spoken_languages</th>\n",
              "      <th>status</th>\n",
              "      <th>tagline</th>\n",
              "      <th>title</th>\n",
              "      <th>vote_average</th>\n",
              "      <th>vote_count</th>\n",
              "      <th>cast</th>\n",
              "      <th>crew</th>\n",
              "      <th>director</th>\n",
              "    </tr>\n",
              "  </thead>\n",
              "  <tbody>\n",
              "    <tr>\n",
              "      <th>0</th>\n",
              "      <td>0</td>\n",
              "      <td>237000000</td>\n",
              "      <td>Action Adventure Fantasy Science Fiction</td>\n",
              "      <td>http://www.avatarmovie.com/</td>\n",
              "      <td>19995</td>\n",
              "      <td>culture clash future space war space colony so...</td>\n",
              "      <td>en</td>\n",
              "      <td>Avatar</td>\n",
              "      <td>In the 22nd century, a paraplegic Marine is di...</td>\n",
              "      <td>150.437577</td>\n",
              "      <td>[{\"name\": \"Ingenious Film Partners\", \"id\": 289...</td>\n",
              "      <td>[{\"iso_3166_1\": \"US\", \"name\": \"United States o...</td>\n",
              "      <td>2009-12-10</td>\n",
              "      <td>2787965087</td>\n",
              "      <td>162.0</td>\n",
              "      <td>[{\"iso_639_1\": \"en\", \"name\": \"English\"}, {\"iso...</td>\n",
              "      <td>Released</td>\n",
              "      <td>Enter the World of Pandora.</td>\n",
              "      <td>Avatar</td>\n",
              "      <td>7.2</td>\n",
              "      <td>11800</td>\n",
              "      <td>Sam Worthington Zoe Saldana Sigourney Weaver S...</td>\n",
              "      <td>[{'name': 'Stephen E. Rivkin', 'gender': 0, 'd...</td>\n",
              "      <td>James Cameron</td>\n",
              "    </tr>\n",
              "    <tr>\n",
              "      <th>1</th>\n",
              "      <td>1</td>\n",
              "      <td>300000000</td>\n",
              "      <td>Adventure Fantasy Action</td>\n",
              "      <td>http://disney.go.com/disneypictures/pirates/</td>\n",
              "      <td>285</td>\n",
              "      <td>ocean drug abuse exotic island east india trad...</td>\n",
              "      <td>en</td>\n",
              "      <td>Pirates of the Caribbean: At World's End</td>\n",
              "      <td>Captain Barbossa, long believed to be dead, ha...</td>\n",
              "      <td>139.082615</td>\n",
              "      <td>[{\"name\": \"Walt Disney Pictures\", \"id\": 2}, {\"...</td>\n",
              "      <td>[{\"iso_3166_1\": \"US\", \"name\": \"United States o...</td>\n",
              "      <td>2007-05-19</td>\n",
              "      <td>961000000</td>\n",
              "      <td>169.0</td>\n",
              "      <td>[{\"iso_639_1\": \"en\", \"name\": \"English\"}]</td>\n",
              "      <td>Released</td>\n",
              "      <td>At the end of the world, the adventure begins.</td>\n",
              "      <td>Pirates of the Caribbean: At World's End</td>\n",
              "      <td>6.9</td>\n",
              "      <td>4500</td>\n",
              "      <td>Johnny Depp Orlando Bloom Keira Knightley Stel...</td>\n",
              "      <td>[{'name': 'Dariusz Wolski', 'gender': 2, 'depa...</td>\n",
              "      <td>Gore Verbinski</td>\n",
              "    </tr>\n",
              "    <tr>\n",
              "      <th>2</th>\n",
              "      <td>2</td>\n",
              "      <td>245000000</td>\n",
              "      <td>Action Adventure Crime</td>\n",
              "      <td>http://www.sonypictures.com/movies/spectre/</td>\n",
              "      <td>206647</td>\n",
              "      <td>spy based on novel secret agent sequel mi6</td>\n",
              "      <td>en</td>\n",
              "      <td>Spectre</td>\n",
              "      <td>A cryptic message from Bond’s past sends him o...</td>\n",
              "      <td>107.376788</td>\n",
              "      <td>[{\"name\": \"Columbia Pictures\", \"id\": 5}, {\"nam...</td>\n",
              "      <td>[{\"iso_3166_1\": \"GB\", \"name\": \"United Kingdom\"...</td>\n",
              "      <td>2015-10-26</td>\n",
              "      <td>880674609</td>\n",
              "      <td>148.0</td>\n",
              "      <td>[{\"iso_639_1\": \"fr\", \"name\": \"Fran\\u00e7ais\"},...</td>\n",
              "      <td>Released</td>\n",
              "      <td>A Plan No One Escapes</td>\n",
              "      <td>Spectre</td>\n",
              "      <td>6.3</td>\n",
              "      <td>4466</td>\n",
              "      <td>Daniel Craig Christoph Waltz L\\u00e9a Seydoux ...</td>\n",
              "      <td>[{'name': 'Thomas Newman', 'gender': 2, 'depar...</td>\n",
              "      <td>Sam Mendes</td>\n",
              "    </tr>\n",
              "    <tr>\n",
              "      <th>3</th>\n",
              "      <td>3</td>\n",
              "      <td>250000000</td>\n",
              "      <td>Action Crime Drama Thriller</td>\n",
              "      <td>http://www.thedarkknightrises.com/</td>\n",
              "      <td>49026</td>\n",
              "      <td>dc comics crime fighter terrorist secret ident...</td>\n",
              "      <td>en</td>\n",
              "      <td>The Dark Knight Rises</td>\n",
              "      <td>Following the death of District Attorney Harve...</td>\n",
              "      <td>112.312950</td>\n",
              "      <td>[{\"name\": \"Legendary Pictures\", \"id\": 923}, {\"...</td>\n",
              "      <td>[{\"iso_3166_1\": \"US\", \"name\": \"United States o...</td>\n",
              "      <td>2012-07-16</td>\n",
              "      <td>1084939099</td>\n",
              "      <td>165.0</td>\n",
              "      <td>[{\"iso_639_1\": \"en\", \"name\": \"English\"}]</td>\n",
              "      <td>Released</td>\n",
              "      <td>The Legend Ends</td>\n",
              "      <td>The Dark Knight Rises</td>\n",
              "      <td>7.6</td>\n",
              "      <td>9106</td>\n",
              "      <td>Christian Bale Michael Caine Gary Oldman Anne ...</td>\n",
              "      <td>[{'name': 'Hans Zimmer', 'gender': 2, 'departm...</td>\n",
              "      <td>Christopher Nolan</td>\n",
              "    </tr>\n",
              "    <tr>\n",
              "      <th>4</th>\n",
              "      <td>4</td>\n",
              "      <td>260000000</td>\n",
              "      <td>Action Adventure Science Fiction</td>\n",
              "      <td>http://movies.disney.com/john-carter</td>\n",
              "      <td>49529</td>\n",
              "      <td>based on novel mars medallion space travel pri...</td>\n",
              "      <td>en</td>\n",
              "      <td>John Carter</td>\n",
              "      <td>John Carter is a war-weary, former military ca...</td>\n",
              "      <td>43.926995</td>\n",
              "      <td>[{\"name\": \"Walt Disney Pictures\", \"id\": 2}]</td>\n",
              "      <td>[{\"iso_3166_1\": \"US\", \"name\": \"United States o...</td>\n",
              "      <td>2012-03-07</td>\n",
              "      <td>284139100</td>\n",
              "      <td>132.0</td>\n",
              "      <td>[{\"iso_639_1\": \"en\", \"name\": \"English\"}]</td>\n",
              "      <td>Released</td>\n",
              "      <td>Lost in our world, found in another.</td>\n",
              "      <td>John Carter</td>\n",
              "      <td>6.1</td>\n",
              "      <td>2124</td>\n",
              "      <td>Taylor Kitsch Lynn Collins Samantha Morton Wil...</td>\n",
              "      <td>[{'name': 'Andrew Stanton', 'gender': 2, 'depa...</td>\n",
              "      <td>Andrew Stanton</td>\n",
              "    </tr>\n",
              "  </tbody>\n",
              "</table>\n",
              "</div>\n",
              "    <div class=\"colab-df-buttons\">\n",
              "\n",
              "  <div class=\"colab-df-container\">\n",
              "    <button class=\"colab-df-convert\" onclick=\"convertToInteractive('df-ca48b070-d4e2-4731-a59f-74b284911630')\"\n",
              "            title=\"Convert this dataframe to an interactive table.\"\n",
              "            style=\"display:none;\">\n",
              "\n",
              "  <svg xmlns=\"http://www.w3.org/2000/svg\" height=\"24px\" viewBox=\"0 -960 960 960\">\n",
              "    <path d=\"M120-120v-720h720v720H120Zm60-500h600v-160H180v160Zm220 220h160v-160H400v160Zm0 220h160v-160H400v160ZM180-400h160v-160H180v160Zm440 0h160v-160H620v160ZM180-180h160v-160H180v160Zm440 0h160v-160H620v160Z\"/>\n",
              "  </svg>\n",
              "    </button>\n",
              "\n",
              "  <style>\n",
              "    .colab-df-container {\n",
              "      display:flex;\n",
              "      gap: 12px;\n",
              "    }\n",
              "\n",
              "    .colab-df-convert {\n",
              "      background-color: #E8F0FE;\n",
              "      border: none;\n",
              "      border-radius: 50%;\n",
              "      cursor: pointer;\n",
              "      display: none;\n",
              "      fill: #1967D2;\n",
              "      height: 32px;\n",
              "      padding: 0 0 0 0;\n",
              "      width: 32px;\n",
              "    }\n",
              "\n",
              "    .colab-df-convert:hover {\n",
              "      background-color: #E2EBFA;\n",
              "      box-shadow: 0px 1px 2px rgba(60, 64, 67, 0.3), 0px 1px 3px 1px rgba(60, 64, 67, 0.15);\n",
              "      fill: #174EA6;\n",
              "    }\n",
              "\n",
              "    .colab-df-buttons div {\n",
              "      margin-bottom: 4px;\n",
              "    }\n",
              "\n",
              "    [theme=dark] .colab-df-convert {\n",
              "      background-color: #3B4455;\n",
              "      fill: #D2E3FC;\n",
              "    }\n",
              "\n",
              "    [theme=dark] .colab-df-convert:hover {\n",
              "      background-color: #434B5C;\n",
              "      box-shadow: 0px 1px 3px 1px rgba(0, 0, 0, 0.15);\n",
              "      filter: drop-shadow(0px 1px 2px rgba(0, 0, 0, 0.3));\n",
              "      fill: #FFFFFF;\n",
              "    }\n",
              "  </style>\n",
              "\n",
              "    <script>\n",
              "      const buttonEl =\n",
              "        document.querySelector('#df-ca48b070-d4e2-4731-a59f-74b284911630 button.colab-df-convert');\n",
              "      buttonEl.style.display =\n",
              "        google.colab.kernel.accessAllowed ? 'block' : 'none';\n",
              "\n",
              "      async function convertToInteractive(key) {\n",
              "        const element = document.querySelector('#df-ca48b070-d4e2-4731-a59f-74b284911630');\n",
              "        const dataTable =\n",
              "          await google.colab.kernel.invokeFunction('convertToInteractive',\n",
              "                                                    [key], {});\n",
              "        if (!dataTable) return;\n",
              "\n",
              "        const docLinkHtml = 'Like what you see? Visit the ' +\n",
              "          '<a target=\"_blank\" href=https://colab.research.google.com/notebooks/data_table.ipynb>data table notebook</a>'\n",
              "          + ' to learn more about interactive tables.';\n",
              "        element.innerHTML = '';\n",
              "        dataTable['output_type'] = 'display_data';\n",
              "        await google.colab.output.renderOutput(dataTable, element);\n",
              "        const docLink = document.createElement('div');\n",
              "        docLink.innerHTML = docLinkHtml;\n",
              "        element.appendChild(docLink);\n",
              "      }\n",
              "    </script>\n",
              "  </div>\n",
              "\n",
              "\n",
              "<div id=\"df-83263fcb-fb3a-4799-9f7e-53d1feed9e27\">\n",
              "  <button class=\"colab-df-quickchart\" onclick=\"quickchart('df-83263fcb-fb3a-4799-9f7e-53d1feed9e27')\"\n",
              "            title=\"Suggest charts\"\n",
              "            style=\"display:none;\">\n",
              "\n",
              "<svg xmlns=\"http://www.w3.org/2000/svg\" height=\"24px\"viewBox=\"0 0 24 24\"\n",
              "     width=\"24px\">\n",
              "    <g>\n",
              "        <path d=\"M19 3H5c-1.1 0-2 .9-2 2v14c0 1.1.9 2 2 2h14c1.1 0 2-.9 2-2V5c0-1.1-.9-2-2-2zM9 17H7v-7h2v7zm4 0h-2V7h2v10zm4 0h-2v-4h2v4z\"/>\n",
              "    </g>\n",
              "</svg>\n",
              "  </button>\n",
              "\n",
              "<style>\n",
              "  .colab-df-quickchart {\n",
              "      --bg-color: #E8F0FE;\n",
              "      --fill-color: #1967D2;\n",
              "      --hover-bg-color: #E2EBFA;\n",
              "      --hover-fill-color: #174EA6;\n",
              "      --disabled-fill-color: #AAA;\n",
              "      --disabled-bg-color: #DDD;\n",
              "  }\n",
              "\n",
              "  [theme=dark] .colab-df-quickchart {\n",
              "      --bg-color: #3B4455;\n",
              "      --fill-color: #D2E3FC;\n",
              "      --hover-bg-color: #434B5C;\n",
              "      --hover-fill-color: #FFFFFF;\n",
              "      --disabled-bg-color: #3B4455;\n",
              "      --disabled-fill-color: #666;\n",
              "  }\n",
              "\n",
              "  .colab-df-quickchart {\n",
              "    background-color: var(--bg-color);\n",
              "    border: none;\n",
              "    border-radius: 50%;\n",
              "    cursor: pointer;\n",
              "    display: none;\n",
              "    fill: var(--fill-color);\n",
              "    height: 32px;\n",
              "    padding: 0;\n",
              "    width: 32px;\n",
              "  }\n",
              "\n",
              "  .colab-df-quickchart:hover {\n",
              "    background-color: var(--hover-bg-color);\n",
              "    box-shadow: 0 1px 2px rgba(60, 64, 67, 0.3), 0 1px 3px 1px rgba(60, 64, 67, 0.15);\n",
              "    fill: var(--button-hover-fill-color);\n",
              "  }\n",
              "\n",
              "  .colab-df-quickchart-complete:disabled,\n",
              "  .colab-df-quickchart-complete:disabled:hover {\n",
              "    background-color: var(--disabled-bg-color);\n",
              "    fill: var(--disabled-fill-color);\n",
              "    box-shadow: none;\n",
              "  }\n",
              "\n",
              "  .colab-df-spinner {\n",
              "    border: 2px solid var(--fill-color);\n",
              "    border-color: transparent;\n",
              "    border-bottom-color: var(--fill-color);\n",
              "    animation:\n",
              "      spin 1s steps(1) infinite;\n",
              "  }\n",
              "\n",
              "  @keyframes spin {\n",
              "    0% {\n",
              "      border-color: transparent;\n",
              "      border-bottom-color: var(--fill-color);\n",
              "      border-left-color: var(--fill-color);\n",
              "    }\n",
              "    20% {\n",
              "      border-color: transparent;\n",
              "      border-left-color: var(--fill-color);\n",
              "      border-top-color: var(--fill-color);\n",
              "    }\n",
              "    30% {\n",
              "      border-color: transparent;\n",
              "      border-left-color: var(--fill-color);\n",
              "      border-top-color: var(--fill-color);\n",
              "      border-right-color: var(--fill-color);\n",
              "    }\n",
              "    40% {\n",
              "      border-color: transparent;\n",
              "      border-right-color: var(--fill-color);\n",
              "      border-top-color: var(--fill-color);\n",
              "    }\n",
              "    60% {\n",
              "      border-color: transparent;\n",
              "      border-right-color: var(--fill-color);\n",
              "    }\n",
              "    80% {\n",
              "      border-color: transparent;\n",
              "      border-right-color: var(--fill-color);\n",
              "      border-bottom-color: var(--fill-color);\n",
              "    }\n",
              "    90% {\n",
              "      border-color: transparent;\n",
              "      border-bottom-color: var(--fill-color);\n",
              "    }\n",
              "  }\n",
              "</style>\n",
              "\n",
              "  <script>\n",
              "    async function quickchart(key) {\n",
              "      const quickchartButtonEl =\n",
              "        document.querySelector('#' + key + ' button');\n",
              "      quickchartButtonEl.disabled = true;  // To prevent multiple clicks.\n",
              "      quickchartButtonEl.classList.add('colab-df-spinner');\n",
              "      try {\n",
              "        const charts = await google.colab.kernel.invokeFunction(\n",
              "            'suggestCharts', [key], {});\n",
              "      } catch (error) {\n",
              "        console.error('Error during call to suggestCharts:', error);\n",
              "      }\n",
              "      quickchartButtonEl.classList.remove('colab-df-spinner');\n",
              "      quickchartButtonEl.classList.add('colab-df-quickchart-complete');\n",
              "    }\n",
              "    (() => {\n",
              "      let quickchartButtonEl =\n",
              "        document.querySelector('#df-83263fcb-fb3a-4799-9f7e-53d1feed9e27 button');\n",
              "      quickchartButtonEl.style.display =\n",
              "        google.colab.kernel.accessAllowed ? 'block' : 'none';\n",
              "    })();\n",
              "  </script>\n",
              "</div>\n",
              "\n",
              "    </div>\n",
              "  </div>\n"
            ],
            "application/vnd.google.colaboratory.intrinsic+json": {
              "type": "dataframe",
              "variable_name": "df"
            }
          },
          "metadata": {},
          "execution_count": 13
        }
      ]
    },
    {
      "cell_type": "code",
      "source": [
        "df.columns"
      ],
      "metadata": {
        "colab": {
          "base_uri": "https://localhost:8080/"
        },
        "id": "sT7AmwhoS4xr",
        "outputId": "4cb83625-c5f2-4657-ea46-6355f415d39c"
      },
      "execution_count": null,
      "outputs": [
        {
          "output_type": "execute_result",
          "data": {
            "text/plain": [
              "Index(['index', 'budget', 'genres', 'homepage', 'id', 'keywords',\n",
              "       'original_language', 'original_title', 'overview', 'popularity',\n",
              "       'production_companies', 'production_countries', 'release_date',\n",
              "       'revenue', 'runtime', 'spoken_languages', 'status', 'tagline', 'title',\n",
              "       'vote_average', 'vote_count', 'cast', 'crew', 'director'],\n",
              "      dtype='object')"
            ]
          },
          "metadata": {},
          "execution_count": 15
        }
      ]
    },
    {
      "cell_type": "code",
      "source": [
        "df.info()"
      ],
      "metadata": {
        "colab": {
          "base_uri": "https://localhost:8080/"
        },
        "id": "tOrjiBloS4u_",
        "outputId": "7724e347-ce1a-411f-f51c-7483261c8a61"
      },
      "execution_count": null,
      "outputs": [
        {
          "output_type": "stream",
          "name": "stdout",
          "text": [
            "<class 'pandas.core.frame.DataFrame'>\n",
            "RangeIndex: 4803 entries, 0 to 4802\n",
            "Data columns (total 24 columns):\n",
            " #   Column                Non-Null Count  Dtype  \n",
            "---  ------                --------------  -----  \n",
            " 0   index                 4803 non-null   int64  \n",
            " 1   budget                4803 non-null   int64  \n",
            " 2   genres                4775 non-null   object \n",
            " 3   homepage              1712 non-null   object \n",
            " 4   id                    4803 non-null   int64  \n",
            " 5   keywords              4391 non-null   object \n",
            " 6   original_language     4803 non-null   object \n",
            " 7   original_title        4803 non-null   object \n",
            " 8   overview              4800 non-null   object \n",
            " 9   popularity            4803 non-null   float64\n",
            " 10  production_companies  4803 non-null   object \n",
            " 11  production_countries  4803 non-null   object \n",
            " 12  release_date          4802 non-null   object \n",
            " 13  revenue               4803 non-null   int64  \n",
            " 14  runtime               4801 non-null   float64\n",
            " 15  spoken_languages      4803 non-null   object \n",
            " 16  status                4803 non-null   object \n",
            " 17  tagline               3959 non-null   object \n",
            " 18  title                 4803 non-null   object \n",
            " 19  vote_average          4803 non-null   float64\n",
            " 20  vote_count            4803 non-null   int64  \n",
            " 21  cast                  4760 non-null   object \n",
            " 22  crew                  4803 non-null   object \n",
            " 23  director              4773 non-null   object \n",
            "dtypes: float64(3), int64(5), object(16)\n",
            "memory usage: 900.7+ KB\n"
          ]
        }
      ]
    },
    {
      "cell_type": "code",
      "source": [
        "feature_selection = ['genres','keywords', 'tagline','cast','director'] #select more suitable features"
      ],
      "metadata": {
        "id": "8qfvFpG_T53G"
      },
      "execution_count": null,
      "outputs": []
    },
    {
      "cell_type": "code",
      "source": [
        "new_df = df[feature_selection]"
      ],
      "metadata": {
        "id": "Z155BqamUlQ3"
      },
      "execution_count": null,
      "outputs": []
    },
    {
      "cell_type": "code",
      "source": [
        "new_df.isnull().sum()"
      ],
      "metadata": {
        "colab": {
          "base_uri": "https://localhost:8080/",
          "height": 241
        },
        "id": "U6Mbwe0qU8nO",
        "outputId": "a42399e6-b177-482d-d8ab-644d2bf855ad"
      },
      "execution_count": null,
      "outputs": [
        {
          "output_type": "execute_result",
          "data": {
            "text/plain": [
              "genres      0\n",
              "keywords    0\n",
              "tagline     0\n",
              "cast        0\n",
              "director    0\n",
              "dtype: int64"
            ],
            "text/html": [
              "<div>\n",
              "<style scoped>\n",
              "    .dataframe tbody tr th:only-of-type {\n",
              "        vertical-align: middle;\n",
              "    }\n",
              "\n",
              "    .dataframe tbody tr th {\n",
              "        vertical-align: top;\n",
              "    }\n",
              "\n",
              "    .dataframe thead th {\n",
              "        text-align: right;\n",
              "    }\n",
              "</style>\n",
              "<table border=\"1\" class=\"dataframe\">\n",
              "  <thead>\n",
              "    <tr style=\"text-align: right;\">\n",
              "      <th></th>\n",
              "      <th>0</th>\n",
              "    </tr>\n",
              "  </thead>\n",
              "  <tbody>\n",
              "    <tr>\n",
              "      <th>genres</th>\n",
              "      <td>0</td>\n",
              "    </tr>\n",
              "    <tr>\n",
              "      <th>keywords</th>\n",
              "      <td>0</td>\n",
              "    </tr>\n",
              "    <tr>\n",
              "      <th>tagline</th>\n",
              "      <td>0</td>\n",
              "    </tr>\n",
              "    <tr>\n",
              "      <th>cast</th>\n",
              "      <td>0</td>\n",
              "    </tr>\n",
              "    <tr>\n",
              "      <th>director</th>\n",
              "      <td>0</td>\n",
              "    </tr>\n",
              "  </tbody>\n",
              "</table>\n",
              "</div><br><label><b>dtype:</b> int64</label>"
            ]
          },
          "metadata": {},
          "execution_count": 25
        }
      ]
    },
    {
      "cell_type": "code",
      "source": [
        "new_df.head()"
      ],
      "metadata": {
        "colab": {
          "base_uri": "https://localhost:8080/",
          "height": 206
        },
        "id": "XogFhSyXVBFZ",
        "outputId": "05a389dc-17de-4714-b46f-4099bbf4af26"
      },
      "execution_count": null,
      "outputs": [
        {
          "output_type": "execute_result",
          "data": {
            "text/plain": [
              "                                     genres  ...           director\n",
              "0  Action Adventure Fantasy Science Fiction  ...      James Cameron\n",
              "1                  Adventure Fantasy Action  ...     Gore Verbinski\n",
              "2                    Action Adventure Crime  ...         Sam Mendes\n",
              "3               Action Crime Drama Thriller  ...  Christopher Nolan\n",
              "4          Action Adventure Science Fiction  ...     Andrew Stanton\n",
              "\n",
              "[5 rows x 5 columns]"
            ],
            "text/html": [
              "\n",
              "  <div id=\"df-23e74159-2234-494a-8b21-aa411745ec93\" class=\"colab-df-container\">\n",
              "    <div>\n",
              "<style scoped>\n",
              "    .dataframe tbody tr th:only-of-type {\n",
              "        vertical-align: middle;\n",
              "    }\n",
              "\n",
              "    .dataframe tbody tr th {\n",
              "        vertical-align: top;\n",
              "    }\n",
              "\n",
              "    .dataframe thead th {\n",
              "        text-align: right;\n",
              "    }\n",
              "</style>\n",
              "<table border=\"1\" class=\"dataframe\">\n",
              "  <thead>\n",
              "    <tr style=\"text-align: right;\">\n",
              "      <th></th>\n",
              "      <th>genres</th>\n",
              "      <th>keywords</th>\n",
              "      <th>tagline</th>\n",
              "      <th>cast</th>\n",
              "      <th>director</th>\n",
              "    </tr>\n",
              "  </thead>\n",
              "  <tbody>\n",
              "    <tr>\n",
              "      <th>0</th>\n",
              "      <td>Action Adventure Fantasy Science Fiction</td>\n",
              "      <td>culture clash future space war space colony so...</td>\n",
              "      <td>Enter the World of Pandora.</td>\n",
              "      <td>Sam Worthington Zoe Saldana Sigourney Weaver S...</td>\n",
              "      <td>James Cameron</td>\n",
              "    </tr>\n",
              "    <tr>\n",
              "      <th>1</th>\n",
              "      <td>Adventure Fantasy Action</td>\n",
              "      <td>ocean drug abuse exotic island east india trad...</td>\n",
              "      <td>At the end of the world, the adventure begins.</td>\n",
              "      <td>Johnny Depp Orlando Bloom Keira Knightley Stel...</td>\n",
              "      <td>Gore Verbinski</td>\n",
              "    </tr>\n",
              "    <tr>\n",
              "      <th>2</th>\n",
              "      <td>Action Adventure Crime</td>\n",
              "      <td>spy based on novel secret agent sequel mi6</td>\n",
              "      <td>A Plan No One Escapes</td>\n",
              "      <td>Daniel Craig Christoph Waltz L\\u00e9a Seydoux ...</td>\n",
              "      <td>Sam Mendes</td>\n",
              "    </tr>\n",
              "    <tr>\n",
              "      <th>3</th>\n",
              "      <td>Action Crime Drama Thriller</td>\n",
              "      <td>dc comics crime fighter terrorist secret ident...</td>\n",
              "      <td>The Legend Ends</td>\n",
              "      <td>Christian Bale Michael Caine Gary Oldman Anne ...</td>\n",
              "      <td>Christopher Nolan</td>\n",
              "    </tr>\n",
              "    <tr>\n",
              "      <th>4</th>\n",
              "      <td>Action Adventure Science Fiction</td>\n",
              "      <td>based on novel mars medallion space travel pri...</td>\n",
              "      <td>Lost in our world, found in another.</td>\n",
              "      <td>Taylor Kitsch Lynn Collins Samantha Morton Wil...</td>\n",
              "      <td>Andrew Stanton</td>\n",
              "    </tr>\n",
              "  </tbody>\n",
              "</table>\n",
              "</div>\n",
              "    <div class=\"colab-df-buttons\">\n",
              "\n",
              "  <div class=\"colab-df-container\">\n",
              "    <button class=\"colab-df-convert\" onclick=\"convertToInteractive('df-23e74159-2234-494a-8b21-aa411745ec93')\"\n",
              "            title=\"Convert this dataframe to an interactive table.\"\n",
              "            style=\"display:none;\">\n",
              "\n",
              "  <svg xmlns=\"http://www.w3.org/2000/svg\" height=\"24px\" viewBox=\"0 -960 960 960\">\n",
              "    <path d=\"M120-120v-720h720v720H120Zm60-500h600v-160H180v160Zm220 220h160v-160H400v160Zm0 220h160v-160H400v160ZM180-400h160v-160H180v160Zm440 0h160v-160H620v160ZM180-180h160v-160H180v160Zm440 0h160v-160H620v160Z\"/>\n",
              "  </svg>\n",
              "    </button>\n",
              "\n",
              "  <style>\n",
              "    .colab-df-container {\n",
              "      display:flex;\n",
              "      gap: 12px;\n",
              "    }\n",
              "\n",
              "    .colab-df-convert {\n",
              "      background-color: #E8F0FE;\n",
              "      border: none;\n",
              "      border-radius: 50%;\n",
              "      cursor: pointer;\n",
              "      display: none;\n",
              "      fill: #1967D2;\n",
              "      height: 32px;\n",
              "      padding: 0 0 0 0;\n",
              "      width: 32px;\n",
              "    }\n",
              "\n",
              "    .colab-df-convert:hover {\n",
              "      background-color: #E2EBFA;\n",
              "      box-shadow: 0px 1px 2px rgba(60, 64, 67, 0.3), 0px 1px 3px 1px rgba(60, 64, 67, 0.15);\n",
              "      fill: #174EA6;\n",
              "    }\n",
              "\n",
              "    .colab-df-buttons div {\n",
              "      margin-bottom: 4px;\n",
              "    }\n",
              "\n",
              "    [theme=dark] .colab-df-convert {\n",
              "      background-color: #3B4455;\n",
              "      fill: #D2E3FC;\n",
              "    }\n",
              "\n",
              "    [theme=dark] .colab-df-convert:hover {\n",
              "      background-color: #434B5C;\n",
              "      box-shadow: 0px 1px 3px 1px rgba(0, 0, 0, 0.15);\n",
              "      filter: drop-shadow(0px 1px 2px rgba(0, 0, 0, 0.3));\n",
              "      fill: #FFFFFF;\n",
              "    }\n",
              "  </style>\n",
              "\n",
              "    <script>\n",
              "      const buttonEl =\n",
              "        document.querySelector('#df-23e74159-2234-494a-8b21-aa411745ec93 button.colab-df-convert');\n",
              "      buttonEl.style.display =\n",
              "        google.colab.kernel.accessAllowed ? 'block' : 'none';\n",
              "\n",
              "      async function convertToInteractive(key) {\n",
              "        const element = document.querySelector('#df-23e74159-2234-494a-8b21-aa411745ec93');\n",
              "        const dataTable =\n",
              "          await google.colab.kernel.invokeFunction('convertToInteractive',\n",
              "                                                    [key], {});\n",
              "        if (!dataTable) return;\n",
              "\n",
              "        const docLinkHtml = 'Like what you see? Visit the ' +\n",
              "          '<a target=\"_blank\" href=https://colab.research.google.com/notebooks/data_table.ipynb>data table notebook</a>'\n",
              "          + ' to learn more about interactive tables.';\n",
              "        element.innerHTML = '';\n",
              "        dataTable['output_type'] = 'display_data';\n",
              "        await google.colab.output.renderOutput(dataTable, element);\n",
              "        const docLink = document.createElement('div');\n",
              "        docLink.innerHTML = docLinkHtml;\n",
              "        element.appendChild(docLink);\n",
              "      }\n",
              "    </script>\n",
              "  </div>\n",
              "\n",
              "\n",
              "<div id=\"df-a95c5d9c-fba7-4f9f-8d62-c3cb48228d8e\">\n",
              "  <button class=\"colab-df-quickchart\" onclick=\"quickchart('df-a95c5d9c-fba7-4f9f-8d62-c3cb48228d8e')\"\n",
              "            title=\"Suggest charts\"\n",
              "            style=\"display:none;\">\n",
              "\n",
              "<svg xmlns=\"http://www.w3.org/2000/svg\" height=\"24px\"viewBox=\"0 0 24 24\"\n",
              "     width=\"24px\">\n",
              "    <g>\n",
              "        <path d=\"M19 3H5c-1.1 0-2 .9-2 2v14c0 1.1.9 2 2 2h14c1.1 0 2-.9 2-2V5c0-1.1-.9-2-2-2zM9 17H7v-7h2v7zm4 0h-2V7h2v10zm4 0h-2v-4h2v4z\"/>\n",
              "    </g>\n",
              "</svg>\n",
              "  </button>\n",
              "\n",
              "<style>\n",
              "  .colab-df-quickchart {\n",
              "      --bg-color: #E8F0FE;\n",
              "      --fill-color: #1967D2;\n",
              "      --hover-bg-color: #E2EBFA;\n",
              "      --hover-fill-color: #174EA6;\n",
              "      --disabled-fill-color: #AAA;\n",
              "      --disabled-bg-color: #DDD;\n",
              "  }\n",
              "\n",
              "  [theme=dark] .colab-df-quickchart {\n",
              "      --bg-color: #3B4455;\n",
              "      --fill-color: #D2E3FC;\n",
              "      --hover-bg-color: #434B5C;\n",
              "      --hover-fill-color: #FFFFFF;\n",
              "      --disabled-bg-color: #3B4455;\n",
              "      --disabled-fill-color: #666;\n",
              "  }\n",
              "\n",
              "  .colab-df-quickchart {\n",
              "    background-color: var(--bg-color);\n",
              "    border: none;\n",
              "    border-radius: 50%;\n",
              "    cursor: pointer;\n",
              "    display: none;\n",
              "    fill: var(--fill-color);\n",
              "    height: 32px;\n",
              "    padding: 0;\n",
              "    width: 32px;\n",
              "  }\n",
              "\n",
              "  .colab-df-quickchart:hover {\n",
              "    background-color: var(--hover-bg-color);\n",
              "    box-shadow: 0 1px 2px rgba(60, 64, 67, 0.3), 0 1px 3px 1px rgba(60, 64, 67, 0.15);\n",
              "    fill: var(--button-hover-fill-color);\n",
              "  }\n",
              "\n",
              "  .colab-df-quickchart-complete:disabled,\n",
              "  .colab-df-quickchart-complete:disabled:hover {\n",
              "    background-color: var(--disabled-bg-color);\n",
              "    fill: var(--disabled-fill-color);\n",
              "    box-shadow: none;\n",
              "  }\n",
              "\n",
              "  .colab-df-spinner {\n",
              "    border: 2px solid var(--fill-color);\n",
              "    border-color: transparent;\n",
              "    border-bottom-color: var(--fill-color);\n",
              "    animation:\n",
              "      spin 1s steps(1) infinite;\n",
              "  }\n",
              "\n",
              "  @keyframes spin {\n",
              "    0% {\n",
              "      border-color: transparent;\n",
              "      border-bottom-color: var(--fill-color);\n",
              "      border-left-color: var(--fill-color);\n",
              "    }\n",
              "    20% {\n",
              "      border-color: transparent;\n",
              "      border-left-color: var(--fill-color);\n",
              "      border-top-color: var(--fill-color);\n",
              "    }\n",
              "    30% {\n",
              "      border-color: transparent;\n",
              "      border-left-color: var(--fill-color);\n",
              "      border-top-color: var(--fill-color);\n",
              "      border-right-color: var(--fill-color);\n",
              "    }\n",
              "    40% {\n",
              "      border-color: transparent;\n",
              "      border-right-color: var(--fill-color);\n",
              "      border-top-color: var(--fill-color);\n",
              "    }\n",
              "    60% {\n",
              "      border-color: transparent;\n",
              "      border-right-color: var(--fill-color);\n",
              "    }\n",
              "    80% {\n",
              "      border-color: transparent;\n",
              "      border-right-color: var(--fill-color);\n",
              "      border-bottom-color: var(--fill-color);\n",
              "    }\n",
              "    90% {\n",
              "      border-color: transparent;\n",
              "      border-bottom-color: var(--fill-color);\n",
              "    }\n",
              "  }\n",
              "</style>\n",
              "\n",
              "  <script>\n",
              "    async function quickchart(key) {\n",
              "      const quickchartButtonEl =\n",
              "        document.querySelector('#' + key + ' button');\n",
              "      quickchartButtonEl.disabled = true;  // To prevent multiple clicks.\n",
              "      quickchartButtonEl.classList.add('colab-df-spinner');\n",
              "      try {\n",
              "        const charts = await google.colab.kernel.invokeFunction(\n",
              "            'suggestCharts', [key], {});\n",
              "      } catch (error) {\n",
              "        console.error('Error during call to suggestCharts:', error);\n",
              "      }\n",
              "      quickchartButtonEl.classList.remove('colab-df-spinner');\n",
              "      quickchartButtonEl.classList.add('colab-df-quickchart-complete');\n",
              "    }\n",
              "    (() => {\n",
              "      let quickchartButtonEl =\n",
              "        document.querySelector('#df-a95c5d9c-fba7-4f9f-8d62-c3cb48228d8e button');\n",
              "      quickchartButtonEl.style.display =\n",
              "        google.colab.kernel.accessAllowed ? 'block' : 'none';\n",
              "    })();\n",
              "  </script>\n",
              "</div>\n",
              "\n",
              "    </div>\n",
              "  </div>\n"
            ],
            "application/vnd.google.colaboratory.intrinsic+json": {
              "type": "dataframe",
              "variable_name": "new_df",
              "summary": "{\n  \"name\": \"new_df\",\n  \"rows\": 4803,\n  \"fields\": [\n    {\n      \"column\": \"genres\",\n      \"properties\": {\n        \"dtype\": \"category\",\n        \"num_unique_values\": 1168,\n        \"samples\": [\n          \"Adventure Family\",\n          \"Comedy Mystery Thriller\",\n          \"Drama Action Adventure Fantasy\"\n        ],\n        \"semantic_type\": \"\",\n        \"description\": \"\"\n      }\n    },\n    {\n      \"column\": \"keywords\",\n      \"properties\": {\n        \"dtype\": \"string\",\n        \"num_unique_values\": 4219,\n        \"samples\": [\n          \"revolution political activism loser\",\n          \"riddle captain treasure liquor treasure hunt\",\n          \"male nudity parents kids relationship camping cutting the cord self-discovery\"\n        ],\n        \"semantic_type\": \"\",\n        \"description\": \"\"\n      }\n    },\n    {\n      \"column\": \"tagline\",\n      \"properties\": {\n        \"dtype\": \"string\",\n        \"num_unique_values\": 3944,\n        \"samples\": [\n          \"When you're 17, every day is war.\",\n          \"An Unspeakable Horror. A Creative Genius. Captured For Eternity.\",\n          \"May the schwartz be with you\"\n        ],\n        \"semantic_type\": \"\",\n        \"description\": \"\"\n      }\n    },\n    {\n      \"column\": \"cast\",\n      \"properties\": {\n        \"dtype\": \"string\",\n        \"num_unique_values\": 4741,\n        \"samples\": [\n          \"Al Gore Billy West Ronald Reagan George W. Bush George H. W. Bush\",\n          \"David Schwimmer Gwyneth Paltrow Michael Rapaport Toni Collette Carol Kane\",\n          \"Paul Scofield Wendy Hiller Leo McKern Robert Shaw Orson Welles\"\n        ],\n        \"semantic_type\": \"\",\n        \"description\": \"\"\n      }\n    },\n    {\n      \"column\": \"director\",\n      \"properties\": {\n        \"dtype\": \"category\",\n        \"num_unique_values\": 2349,\n        \"samples\": [\n          \"Hart Bochner\",\n          \"David Wain\",\n          \"Ham Tran\"\n        ],\n        \"semantic_type\": \"\",\n        \"description\": \"\"\n      }\n    }\n  ]\n}"
            }
          },
          "metadata": {},
          "execution_count": 22
        }
      ]
    },
    {
      "cell_type": "code",
      "source": [
        "new_df = new_df.fillna('')"
      ],
      "metadata": {
        "id": "w4WABFa3VE_q"
      },
      "execution_count": null,
      "outputs": []
    },
    {
      "cell_type": "code",
      "source": [
        "combined_df = new_df['genres']+' '+new_df['keywords']+' '+new_df['tagline']+' '+new_df['cast']+' '+new_df['director']"
      ],
      "metadata": {
        "id": "5REpAszaVTd4"
      },
      "execution_count": null,
      "outputs": []
    },
    {
      "cell_type": "code",
      "source": [
        "print(combined_df)"
      ],
      "metadata": {
        "colab": {
          "base_uri": "https://localhost:8080/"
        },
        "id": "O7xS0MAeWR3m",
        "outputId": "cff34438-0b4f-4bde-cb48-91cb4603f32e"
      },
      "execution_count": null,
      "outputs": [
        {
          "output_type": "stream",
          "name": "stdout",
          "text": [
            "0       Action Adventure Fantasy Science Fiction cultu...\n",
            "1       Adventure Fantasy Action ocean drug abuse exot...\n",
            "2       Action Adventure Crime spy based on novel secr...\n",
            "3       Action Crime Drama Thriller dc comics crime fi...\n",
            "4       Action Adventure Science Fiction based on nove...\n",
            "                              ...                        \n",
            "4798    Action Crime Thriller united states\\u2013mexic...\n",
            "4799    Comedy Romance  A newlywed couple's honeymoon ...\n",
            "4800    Comedy Drama Romance TV Movie date love at fir...\n",
            "4801      A New Yorker in Shanghai Daniel Henney Eliza...\n",
            "4802    Documentary obsession camcorder crush dream gi...\n",
            "Length: 4803, dtype: object\n"
          ]
        }
      ]
    },
    {
      "cell_type": "code",
      "source": [
        "vectorizer = TfidfVectorizer()"
      ],
      "metadata": {
        "id": "tMbeUGnKWTPl"
      },
      "execution_count": null,
      "outputs": []
    },
    {
      "cell_type": "code",
      "source": [
        "feature_vector = vectorizer.fit_transform(combined_df)"
      ],
      "metadata": {
        "id": "GR2mtLbPWxP4"
      },
      "execution_count": null,
      "outputs": []
    },
    {
      "cell_type": "code",
      "source": [
        "print(feature_vector)"
      ],
      "metadata": {
        "colab": {
          "base_uri": "https://localhost:8080/"
        },
        "id": "4jNIHjSqW5HG",
        "outputId": "2e0db171-739b-4365-f4e5-06a56eb651a8"
      },
      "execution_count": null,
      "outputs": [
        {
          "output_type": "stream",
          "name": "stdout",
          "text": [
            "  (0, 201)\t0.07860022416510504\n",
            "  (0, 274)\t0.09021200873707368\n",
            "  (0, 5274)\t0.11108562744414445\n",
            "  (0, 13599)\t0.1036413987316636\n",
            "  (0, 5437)\t0.1036413987316636\n",
            "  (0, 3678)\t0.21392179219912874\n",
            "  (0, 3065)\t0.22208377802661425\n",
            "  (0, 5836)\t0.1646750903586285\n",
            "  (0, 14378)\t0.33962752210959823\n",
            "  (0, 16587)\t0.12549432354918996\n",
            "  (0, 3225)\t0.24960162956997736\n",
            "  (0, 14271)\t0.21392179219912874\n",
            "  (0, 4945)\t0.24025852494110758\n",
            "  (0, 15261)\t0.07095833561276564\n",
            "  (0, 16998)\t0.1282126322850579\n",
            "  (0, 11192)\t0.09049319826481456\n",
            "  (0, 11503)\t0.27211310056983656\n",
            "  (0, 13349)\t0.15021264094167086\n",
            "  (0, 17007)\t0.23643326319898794\n",
            "  (0, 17290)\t0.20197912553916567\n",
            "  (0, 13319)\t0.2177470539412484\n",
            "  (0, 14064)\t0.20596090415084142\n",
            "  (0, 16668)\t0.19843263965100372\n",
            "  (0, 14608)\t0.1515067239876391\n",
            "  (0, 8756)\t0.22709015857011816\n",
            "  :\t:\n",
            "  (4801, 403)\t0.17727585190343229\n",
            "  (4801, 4835)\t0.24713765026964\n",
            "  (4801, 17266)\t0.28860981849329476\n",
            "  (4801, 13835)\t0.27870029291200094\n",
            "  (4801, 13175)\t0.28860981849329476\n",
            "  (4801, 17150)\t0.3025765103586468\n",
            "  (4801, 3511)\t0.3025765103586468\n",
            "  (4801, 13948)\t0.3025765103586468\n",
            "  (4801, 7269)\t0.3025765103586468\n",
            "  (4802, 11161)\t0.178674076821732\n",
            "  (4802, 4518)\t0.16784466610624255\n",
            "  (4802, 2129)\t0.3099656128577656\n",
            "  (4802, 4980)\t0.16078053641367315\n",
            "  (4802, 6155)\t0.18056463596934083\n",
            "  (4802, 3436)\t0.21753405888348784\n",
            "  (4802, 4528)\t0.19504460807622875\n",
            "  (4802, 1316)\t0.1960747079005741\n",
            "  (4802, 12989)\t0.1696476532191718\n",
            "  (4802, 4371)\t0.1538239182675544\n",
            "  (4802, 6417)\t0.21753405888348784\n",
            "  (4802, 4608)\t0.24002350969074696\n",
            "  (4802, 2425)\t0.24002350969074696\n",
            "  (4802, 3654)\t0.262512960498006\n",
            "  (4802, 5367)\t0.22969114490410403\n",
            "  (4802, 6996)\t0.5700048226105303\n"
          ]
        }
      ]
    },
    {
      "cell_type": "code",
      "source": [
        "similarity_score = cosine_similarity(feature_vector)"
      ],
      "metadata": {
        "id": "5fiCE556XE7_"
      },
      "execution_count": null,
      "outputs": []
    },
    {
      "cell_type": "code",
      "source": [
        "print(similarity_score)"
      ],
      "metadata": {
        "colab": {
          "base_uri": "https://localhost:8080/"
        },
        "id": "LTUmNMvZXly4",
        "outputId": "57089287-8452-460a-e4bb-7b2d0e71ab95"
      },
      "execution_count": null,
      "outputs": [
        {
          "output_type": "stream",
          "name": "stdout",
          "text": [
            "[[1.         0.07219487 0.037733   ... 0.         0.         0.        ]\n",
            " [0.07219487 1.         0.03281499 ... 0.03575545 0.         0.        ]\n",
            " [0.037733   0.03281499 1.         ... 0.         0.05389661 0.        ]\n",
            " ...\n",
            " [0.         0.03575545 0.         ... 1.         0.         0.02651502]\n",
            " [0.         0.         0.05389661 ... 0.         1.         0.        ]\n",
            " [0.         0.         0.         ... 0.02651502 0.         1.        ]]\n"
          ]
        }
      ]
    },
    {
      "cell_type": "code",
      "source": [
        "similarity_score.shape"
      ],
      "metadata": {
        "colab": {
          "base_uri": "https://localhost:8080/"
        },
        "id": "p4IJwnBAXpkl",
        "outputId": "956e633c-15ee-404d-a5ef-d69a280a1767"
      },
      "execution_count": null,
      "outputs": [
        {
          "output_type": "execute_result",
          "data": {
            "text/plain": [
              "(4803, 4803)"
            ]
          },
          "metadata": {},
          "execution_count": 37
        }
      ]
    },
    {
      "cell_type": "code",
      "source": [
        "name = 'Iron'"
      ],
      "metadata": {
        "id": "rKWP0cMLZN6C"
      },
      "execution_count": null,
      "outputs": []
    },
    {
      "cell_type": "code",
      "source": [
        "L=df['title'].tolist()"
      ],
      "metadata": {
        "id": "bn5imIgiX10l"
      },
      "execution_count": null,
      "outputs": []
    },
    {
      "cell_type": "code",
      "source": [
        "len(L)"
      ],
      "metadata": {
        "colab": {
          "base_uri": "https://localhost:8080/"
        },
        "id": "UzrjyQ27Y3ZO",
        "outputId": "b56280a2-a0f1-404d-d0c1-f90e1ce5b3d2"
      },
      "execution_count": null,
      "outputs": [
        {
          "output_type": "execute_result",
          "data": {
            "text/plain": [
              "4803"
            ]
          },
          "metadata": {},
          "execution_count": 40
        }
      ]
    },
    {
      "cell_type": "code",
      "source": [
        "closed_match = difflib.get_close_matches(name,L)\n",
        "print(closed_match)"
      ],
      "metadata": {
        "colab": {
          "base_uri": "https://localhost:8080/"
        },
        "id": "_ot41GQ0Y3yn",
        "outputId": "f6bcb6aa-72b8-4de0-f21a-35f7220ef2ff"
      },
      "execution_count": null,
      "outputs": [
        {
          "output_type": "stream",
          "name": "stdout",
          "text": [
            "['Ironclad', 'Iron Man', 'Prison']\n"
          ]
        }
      ]
    },
    {
      "cell_type": "code",
      "source": [
        "closed_movie = closed_match[0]"
      ],
      "metadata": {
        "id": "t1j-ZvaSZLfV"
      },
      "execution_count": null,
      "outputs": []
    },
    {
      "cell_type": "code",
      "source": [
        "closed_movie_index = df[df.title == closed_movie]['index'].values[0]"
      ],
      "metadata": {
        "id": "SIO3gnnmZsYf"
      },
      "execution_count": null,
      "outputs": []
    },
    {
      "cell_type": "code",
      "source": [
        "closed_movie_index"
      ],
      "metadata": {
        "colab": {
          "base_uri": "https://localhost:8080/"
        },
        "id": "zSorS2HqZsVo",
        "outputId": "d799221b-ca46-4695-e613-b3896b66cd05"
      },
      "execution_count": null,
      "outputs": [
        {
          "output_type": "execute_result",
          "data": {
            "text/plain": [
              "1953"
            ]
          },
          "metadata": {},
          "execution_count": 48
        }
      ]
    },
    {
      "cell_type": "code",
      "source": [
        "score = list(enumerate(similarity_score[closed_movie_index]))"
      ],
      "metadata": {
        "id": "h-AM1l7sauNg"
      },
      "execution_count": null,
      "outputs": []
    },
    {
      "cell_type": "code",
      "source": [
        "print(score)"
      ],
      "metadata": {
        "colab": {
          "base_uri": "https://localhost:8080/"
        },
        "id": "Ba674ggSbDFU",
        "outputId": "1a291257-7641-4b19-831e-2736555ea27c"
      },
      "execution_count": null,
      "outputs": [
        {
          "output_type": "stream",
          "name": "stdout",
          "text": [
            "[(0, 0.028261917888146637), (1, 0.02048324266680273), (2, 0.015308727682288241), (3, 0.007209669927488607), (4, 0.014569864159424213), (5, 0.029277134268379534), (6, 0.008609103671459048), (7, 0.01510287614813315), (8, 0.008785215230746848), (9, 0.014755515796474852), (10, 0.059156131053862346), (11, 0.013292048913497967), (12, 0.015277651635990236), (13, 0.02605373694357043), (14, 0.014865172646238215), (15, 0.008120821195246064), (16, 0.014320737005999227), (17, 0.014614847390071663), (18, 0.0061691263834081755), (19, 0.012975613228439688), (20, 0.014900569968100266), (21, 0.012557350453214575), (22, 0.0076820328907914685), (23, 0.007354940709967774), (24, 0.014115846795419242), (25, 0.045823181987238545), (26, 0.015587481626294326), (27, 0.03944879731071807), (28, 0.014964405340244121), (29, 0.015654996202264918), (30, 0.056514558803471726), (31, 0.01470453138726989), (32, 0.007869294445365826), (33, 0.015009037450925525), (34, 0.0), (35, 0.01575573420221098), (36, 0.014197173852344827), (37, 0.022927050807029413), (38, 0.015270509699367229), (39, 0.014091291751585626), (40, 0.00901215638656474), (41, 0.014413718365239586), (42, 0.0), (43, 0.00656342428861135), (44, 0.039207129027258605), (45, 0.017921871198571256), (46, 0.02716709526590586), (47, 0.016566217271551553), (48, 0.015331269247650334), (49, 0.006594649910593301), (50, 0.02208402878937532), (51, 0.03554765364701623), (52, 0.013516650176531822), (53, 0.02502681892326596), (54, 0.023948618368732924), (55, 0.015741065695965197), (56, 0.016782635098822093), (57, 0.009459380710591143), (58, 0.00731083242545453), (59, 0.014131443975540423), (60, 0.0), (61, 0.022776843351472568), (62, 0.01481486226553266), (63, 0.007860390347017139), (64, 0.013520184563883209), (65, 0.006584009867030778), (66, 0.008042357112563632), (67, 0.055192639512419844), (68, 0.014031234006938618), (69, 0.014531238804146399), (70, 0.014690956281740213), (71, 0.019669218078584107), (72, 0.04150336585537302), (73, 0.0), (74, 0.006485847897581235), (75, 0.014161394212576181), (76, 0.015087151218190521), (77, 0.0), (78, 0.009377193740668152), (79, 0.03864868038326623), (80, 0.009208730716723783), (81, 0.01761375698961809), (82, 0.026105553129297375), (83, 0.023523117277186728), (84, 0.012144035363865734), (85, 0.016515809295952803), (86, 0.007260399601961077), (87, 0.008366750112725722), (88, 0.0418588307315281), (89, 0.00729355630517516), (90, 0.008266442917186308), (91, 0.031791995499870745), (92, 0.0176559773988234), (93, 0.03058543784085801), (94, 0.027474781352090895), (95, 0.007808023279524161), (96, 0.014888805801745696), (97, 0.011630491357413581), (98, 0.014071602364791966), (99, 0.022150654323112348), (100, 0.007466425640571974), (101, 0.030438064076041556), (102, 0.015860297546793946), (103, 0.015375173990231871), (104, 0.0152867606181739), (105, 0.013430482006705585), (106, 0.06310286668771166), (107, 0.015849903154661005), (108, 0.03317425223973719), (109, 0.006184209886541292), (110, 0.05949091760800573), (111, 0.015802187046327895), (112, 0.057563509932299764), (113, 0.00864868971064331), (114, 0.007789780603503076), (115, 0.05059925220137404), (116, 0.0058045378339916884), (117, 0.007773311049860788), (118, 0.023445118012017374), (119, 0.006794755699518146), (120, 0.0), (121, 0.0140652085605408), (122, 0.016187978321592283), (123, 0.013885724616638836), (124, 0.03007324071422668), (125, 0.013670104221300234), (126, 0.013803517519621843), (127, 0.015754237976461152), (128, 0.0), (129, 0.04323807610724206), (130, 0.007584437393702057), (131, 0.01612086638815618), (132, 0.031177789264931748), (133, 0.0), (134, 0.014119873647908003), (135, 0.0), (136, 0.007510935582368329), (137, 0.0), (138, 0.01426904377289515), (139, 0.0362451532163217), (140, 0.006649635759051291), (141, 0.008237131506914356), (142, 0.035673292848212815), (143, 0.05504461180977812), (144, 0.026510302128641933), (145, 0.057502757668558405), (146, 0.0), (147, 0.013473334716246586), (148, 0.04762558115325137), (149, 0.014443309274181262), (150, 0.014420867860103964), (151, 0.0416049604655801), (152, 0.014057411146485496), (153, 0.040408559751711495), (154, 0.0), (155, 0.0), (156, 0.020101482902259563), (157, 0.03318575370641921), (158, 0.015784883629335868), (159, 0.018493627720463732), (160, 0.015046002601939836), (161, 0.026063197477435858), (162, 0.00785744955070351), (163, 0.00581668282350121), (164, 0.021801469151401354), (165, 0.03786831634739114), (166, 0.017513690234104443), (167, 0.037207933028933673), (168, 0.014262566594739236), (169, 0.014751734529036161), (170, 0.01236365923734586), (171, 0.03548568804244413), (172, 0.023304213314779325), (173, 0.0), (174, 0.013436071020463626), (175, 0.008111722935551713), (176, 0.023101482279539964), (177, 0.06552367176376539), (178, 0.007907302128091952), (179, 0.00878414944222038), (180, 0.024733044308605578), (181, 0.008740213281726946), (182, 0.030345329256533275), (183, 0.01553778676950631), (184, 0.0), (185, 0.008499690801573237), (186, 0.013017258119035565), (187, 0.0490816959422281), (188, 0.006544307678701279), (189, 0.00937435182566712), (190, 0.01594680392648014), (191, 0.034911452849078276), (192, 0.0), (193, 0.01576534840253448), (194, 0.0), (195, 0.04171589461219381), (196, 0.006763615619594552), (197, 0.008649367526740111), (198, 0.006578263605276451), (199, 0.013313350916527066), (200, 0.00881463447711573), (201, 0.017913575768333315), (202, 0.008171317735144778), (203, 0.01352619602321986), (204, 0.022992335912434114), (205, 0.015483327886132107), (206, 0.08823785160514899), (207, 0.06255554028185739), (208, 0.014302963905859067), (209, 0.006654538601064401), (210, 0.006164563320991483), (211, 0.0), (212, 0.014242690901140914), (213, 0.016335500007466818), (214, 0.0), (215, 0.015707118895778888), (216, 0.013840558134967658), (217, 0.006237451568794754), (218, 0.027107145955156828), (219, 0.01655668306393268), (220, 0.007587731531339864), (221, 0.08902934897854003), (222, 0.006682749836775314), (223, 0.005865651717860649), (224, 0.006197085263681801), (225, 0.00719218646294446), (226, 0.04304237581224192), (227, 0.019467362930659978), (228, 0.014067869058384391), (229, 0.01530239964183705), (230, 0.011748524485540767), (231, 0.01244115714080895), (232, 0.02562186305801018), (233, 0.01227070494079471), (234, 0.00871507207724214), (235, 0.007864296782091778), (236, 0.024550213895477124), (237, 0.013942674222216053), (238, 0.06256176274961317), (239, 0.0), (240, 0.015173733278432942), (241, 0.014486746532510772), (242, 0.08930564777866382), (243, 0.03217541870353027), (244, 0.00543675157062506), (245, 0.05021355427880058), (246, 0.03967346396168054), (247, 0.0), (248, 0.006757026463043971), (249, 0.04619704977048385), (250, 0.022388086204700536), (251, 0.019345429656138963), (252, 0.006549600676485732), (253, 0.005408027185163398), (254, 0.00793947480097157), (255, 0.0), (256, 0.021662906381648882), (257, 0.03428397930752159), (258, 0.02479615889099915), (259, 0.029537529911213577), (260, 0.01474968251965993), (261, 0.007376126421640375), (262, 0.014607396473067111), (263, 0.014546229400844497), (264, 0.0), (265, 0.0), (266, 0.01996864917689187), (267, 0.026982407051108364), (268, 0.02565524543540436), (269, 0.007047301790264318), (270, 0.009152785187685754), (271, 0.016371124884841246), (272, 0.007520903056524903), (273, 0.006069143445598653), (274, 0.04579078525817204), (275, 0.006086191939785921), (276, 0.03647058065132105), (277, 0.014936109285029591), (278, 0.013157411534388931), (279, 0.021083500916788595), (280, 0.017384236156063295), (281, 0.0), (282, 0.017641294050243117), (283, 0.0), (284, 0.02445378496762691), (285, 0.005911507558150259), (286, 0.08490084711255691), (287, 0.02766051236502673), (288, 0.020037195492184457), (289, 0.008120548784783731), (290, 0.034252993458650655), (291, 0.037320645386213755), (292, 0.03497922821526879), (293, 0.012151744963884057), (294, 0.02859511538600177), (295, 0.036837452325453435), (296, 0.006748878534227656), (297, 0.006548623689956634), (298, 0.0), (299, 0.006633547518986206), (300, 0.026134044815995856), (301, 0.0), (302, 0.008335103357937412), (303, 0.006513494146944395), (304, 0.014078401209457456), (305, 0.0335442928594536), (306, 0.00853460078801249), (307, 0.03217535269183948), (308, 0.0055017829226323076), (309, 0.009689115894661185), (310, 0.03221257028557945), (311, 0.013442155767347726), (312, 0.04364351300211692), (313, 0.0), (314, 0.0), (315, 0.013177835134122174), (316, 0.01833224463244351), (317, 0.01634484935225185), (318, 0.011842359791403318), (319, 0.006837211609920298), (320, 0.04271625104434244), (321, 0.01744605125568497), (322, 0.015472603532750779), (323, 0.010506439967329502), (324, 0.06898992712355159), (325, 0.012564104624600418), (326, 0.021228460559706088), (327, 0.0), (328, 0.0), (329, 0.014644029292822085), (330, 0.015029572172315937), (331, 0.006159403713114348), (332, 0.012151810662336303), (333, 0.07462260130870202), (334, 0.013971715963323833), (335, 0.08027747060198634), (336, 0.007801923348249993), (337, 0.00422074827152132), (338, 0.03636456276440336), (339, 0.0650699059952339), (340, 0.018029396004041694), (341, 0.008103567287772246), (342, 0.013619002645484324), (343, 0.0), (344, 0.005343274327889197), (345, 0.007197105592890813), (346, 0.011827814176654747), (347, 0.015412421546826307), (348, 0.008334584125727197), (349, 0.007989501603928993), (350, 0.02518562804196458), (351, 0.0), (352, 0.0077859460326900175), (353, 0.005249841214138332), (354, 0.04359398532455307), (355, 0.006748730473525132), (356, 0.0154021602440481), (357, 0.0), (358, 0.02004054193158736), (359, 0.02567421859651202), (360, 0.017328002469192232), (361, 0.006280962165943437), (362, 0.021213227448150532), (363, 0.005983294841139762), (364, 0.0), (365, 0.011991341137315415), (366, 0.02024635997053933), (367, 0.0), (368, 0.007228609356655463), (369, 0.05270433355922191), (370, 0.015257735810801067), (371, 0.01798111352945484), (372, 0.006056638754439091), (373, 0.026872067151705967), (374, 0.007510963028783664), (375, 0.0), (376, 0.006054454663746257), (377, 0.02107472869370219), (378, 0.041810109040145926), (379, 0.023898506637612366), (380, 0.10406036072583344), (381, 0.00786483636572966), (382, 0.01752646584470915), (383, 0.0139620841772903), (384, 0.024558067534733136), (385, 0.0), (386, 0.08733458212240294), (387, 0.006407793910370299), (388, 0.0), (389, 0.030736537929728344), (390, 0.013288338058383541), (391, 0.01924634560753905), (392, 0.006102940845340214), (393, 0.0), (394, 0.006481634403377292), (395, 0.02705647439823155), (396, 0.006821871096751629), (397, 0.007845845149157041), (398, 0.0), (399, 0.007344878922754194), (400, 0.04610982925881531), (401, 0.0), (402, 0.042382225913535534), (403, 0.013882720471844384), (404, 0.019136768222145883), (405, 0.024520563712738922), (406, 0.012258443956906596), (407, 0.0), (408, 0.00656530650145652), (409, 0.0), (410, 0.00789783990679357), (411, 0.011493905623698569), (412, 0.013813013729523847), (413, 0.008069872043600467), (414, 0.00821954954107677), (415, 0.026217123174251893), (416, 0.029985447383726674), (417, 0.0), (418, 0.013598407708600966), (419, 0.03970612203393271), (420, 0.008220759031287795), (421, 0.062494565627035426), (422, 0.0), (423, 0.0), (424, 0.03261576470421042), (425, 0.043800088390014286), (426, 0.007970118681528611), (427, 0.0), (428, 0.006816816263884946), (429, 0.0), (430, 0.0), (431, 0.02741251228452982), (432, 0.014033560666335657), (433, 0.007060315945181792), (434, 0.0), (435, 0.018749288695155228), (436, 0.01413904336025034), (437, 0.007139053520527359), (438, 0.008673025231656585), (439, 0.0), (440, 0.007419586306297912), (441, 0.0), (442, 0.005521193791935583), (443, 0.03907301413671174), (444, 0.030834728107572672), (445, 0.007282881196523441), (446, 0.0559615951035953), (447, 0.00704508860314438), (448, 0.0), (449, 0.0059083624564403225), (450, 0.0), (451, 0.05016143962103459), (452, 0.0), (453, 0.006734761349594363), (454, 0.0), (455, 0.006279241969128221), (456, 0.005890595399851531), (457, 0.021856868114294423), (458, 0.008456346819078865), (459, 0.04722214781271171), (460, 0.021390159872818167), (461, 0.009036406885098209), (462, 0.024693761566685516), (463, 0.008072181851612827), (464, 0.013681428779432027), (465, 0.02904332657086918), (466, 0.025563368285107444), (467, 0.016772354878797576), (468, 0.006224369750835903), (469, 0.0385692351307034), (470, 0.007407397713255581), (471, 0.006662463025612986), (472, 0.014373026324605395), (473, 0.0), (474, 0.0), (475, 0.012568751323611477), (476, 0.045959677959947015), (477, 0.0), (478, 0.04213406011019269), (479, 0.018197053045935437), (480, 0.006586288034775226), (481, 0.0), (482, 0.006846724627777858), (483, 0.028021310140867194), (484, 0.007420497960689419), (485, 0.019261695426500147), (486, 0.014242267220183989), (487, 0.005533547204409615), (488, 0.014935281513909944), (489, 0.0), (490, 0.021976227999039425), (491, 0.07370580415904662), (492, 0.041700902088754224), (493, 0.024913636941776084), (494, 0.041749393133108374), (495, 0.014886823749897561), (496, 0.014752617602741712), (497, 0.0), (498, 0.007656175605854819), (499, 0.0), (500, 0.021699692682922087), (501, 0.04775555368662862), (502, 0.0), (503, 0.03702037753457773), (504, 0.0), (505, 0.0839740618495746), (506, 0.0), (507, 0.014508512565415549), (508, 0.014866999133306934), (509, 0.0), (510, 0.00630785207262044), (511, 0.015246154416318502), (512, 0.020720681118968822), (513, 0.012173127859168274), (514, 0.006323088342530796), (515, 0.006867832299233587), (516, 0.019699255096224184), (517, 0.012601366796540534), (518, 0.04834768884363515), (519, 0.0), (520, 0.0), (521, 0.0), (522, 0.0), (523, 0.015026016586467496), (524, 0.017575299617979188), (525, 0.0301185115861552), (526, 0.0), (527, 0.0), (528, 0.018050165345746237), (529, 0.030371516910577802), (530, 0.015541875219005356), (531, 0.05972540236084307), (532, 0.04069685287964017), (533, 0.0), (534, 0.01628780075682883), (535, 0.020739818729065985), (536, 0.02397833923820185), (537, 0.03286505636306164), (538, 0.0), (539, 0.02547831935431029), (540, 0.019105108642541217), (541, 0.09152352331725236), (542, 0.005842757630681928), (543, 0.012415291490091762), (544, 0.014636709030170749), (545, 0.0), (546, 0.024397768889390634), (547, 0.006587903841713305), (548, 0.02369561320337185), (549, 0.0), (550, 0.018017364588450484), (551, 0.03867021665306208), (552, 0.0), (553, 0.024915124290236713), (554, 0.0), (555, 0.007597567796934424), (556, 0.0206213287660727), (557, 0.0), (558, 0.0), (559, 0.00686412833980696), (560, 0.006141217910217671), (561, 0.00585545944148214), (562, 0.0), (563, 0.0), (564, 0.0), (565, 0.009029982824223733), (566, 0.022251856065748477), (567, 0.008115183655723154), (568, 0.014251864864732773), (569, 0.025841473879048393), (570, 0.006372522616812979), (571, 0.005916279322370662), (572, 0.008291811858124623), (573, 0.060466416009278504), (574, 0.006147652025641455), (575, 0.025989199913415036), (576, 0.05337387441759976), (577, 0.028826456438130605), (578, 0.01765692903707602), (579, 0.018098659577568753), (580, 0.006057457761923471), (581, 0.05797242557039837), (582, 0.055964029913614405), (583, 0.016169390253806242), (584, 0.04452910987868644), (585, 0.0), (586, 0.03655464392678039), (587, 0.031038371128635108), (588, 0.0), (589, 0.006358566114212902), (590, 0.023260570936107353), (591, 0.05528169659072361), (592, 0.022961654356216398), (593, 0.013347329765869002), (594, 0.06642631984850217), (595, 0.013352202664031827), (596, 0.015264955227880083), (597, 0.04337960252505679), (598, 0.007901689744034747), (599, 0.0), (600, 0.038801348245363416), (601, 0.006935390724569075), (602, 0.016352713609762697), (603, 0.0), (604, 0.04134636809244166), (605, 0.0), (606, 0.026655427289292103), (607, 0.014760781189596794), (608, 0.0), (609, 0.006635641875662664), (610, 0.013302941033904772), (611, 0.017633866864057997), (612, 0.017530045317636682), (613, 0.02178705314303664), (614, 0.01875998698045823), (615, 0.00584300225722552), (616, 0.0), (617, 0.023237504023325844), (618, 0.012753911542049266), (619, 0.01866684541519171), (620, 0.0), (621, 0.021799149981621496), (622, 0.006502406383356818), (623, 0.01633636342010744), (624, 0.005682570675830962), (625, 0.007890666090930146), (626, 0.03130188321762669), (627, 0.011091161144543674), (628, 0.016254529707745092), (629, 0.018832578991742087), (630, 0.006692382589378094), (631, 0.007731329671714077), (632, 0.01901682729374133), (633, 0.0786252227688966), (634, 0.006174999552650332), (635, 0.0), (636, 0.0), (637, 0.03956531645301831), (638, 0.007476461612462842), (639, 0.0), (640, 0.0674539415856811), (641, 0.0), (642, 0.0), (643, 0.04060020042654809), (644, 0.023098597545954783), (645, 0.015179776068190313), (646, 0.0), (647, 0.040513123275679845), (648, 0.02099929335088543), (649, 0.0), (650, 0.0), (651, 0.0), (652, 0.0073481604670058), (653, 0.014051299059137042), (654, 0.01539428409571695), (655, 0.006830586193631826), (656, 0.0), (657, 0.0235718763040408), (658, 0.039028511334353644), (659, 0.006435633821079469), (660, 0.02877356542616518), (661, 0.02675406039409143), (662, 0.0), (663, 0.0), (664, 0.028050930615614467), (665, 0.01925493410216707), (666, 0.02557380129122491), (667, 0.0), (668, 0.006247978371233661), (669, 0.0), (670, 0.0077115685509866775), (671, 0.02446984913250677), (672, 0.0), (673, 0.0), (674, 0.008085354415760686), (675, 0.016015692522929264), (676, 0.014009958689693628), (677, 0.05496097330799558), (678, 0.016875424698840163), (679, 0.0), (680, 0.02752718332293097), (681, 0.0068696910200821484), (682, 0.00783498664967151), (683, 0.04535469628790396), (684, 0.016073878383215834), (685, 0.006391930689233789), (686, 0.011362027809925384), (687, 0.014057112614889946), (688, 0.007637890281491918), (689, 0.0), (690, 0.01356176156736083), (691, 0.013549251969488498), (692, 0.0), (693, 0.0), (694, 0.06388301151776116), (695, 0.0128670540485898), (696, 0.014273281393483198), (697, 0.0), (698, 0.009121381450149204), (699, 0.0), (700, 0.006351372722091241), (701, 0.026660319207881786), (702, 0.02500006946079958), (703, 0.0071959618840506095), (704, 0.03618191144694758), (705, 0.024195853437490714), (706, 0.008962273564126757), (707, 0.03428513993649246), (708, 0.005803593590346695), (709, 0.014495816833188686), (710, 0.005303503239739107), (711, 0.012617808167133749), (712, 0.013097033077902996), (713, 0.008099869200511721), (714, 0.0), (715, 0.017407821626975756), (716, 0.006244821327701534), (717, 0.0), (718, 0.005047818523714597), (719, 0.0), (720, 0.02406313183165787), (721, 0.00776666891000081), (722, 0.0), (723, 0.0), (724, 0.006268891594655579), (725, 0.024857026933981383), (726, 0.0), (727, 0.023481811403101217), (728, 0.005795618171668618), (729, 0.0), (730, 0.007159154547006624), (731, 0.015819271686658802), (732, 0.08517484479269713), (733, 0.02994619107796464), (734, 0.007963447621729807), (735, 0.031964801717328045), (736, 0.005553044959922209), (737, 0.006362285295855352), (738, 0.0), (739, 0.005933359880862142), (740, 0.0066736860264543785), (741, 0.07078250884279466), (742, 0.0), (743, 0.0), (744, 0.014379488156049138), (745, 0.005956026270373857), (746, 0.037257181144197904), (747, 0.006481512892615322), (748, 0.00894299937747538), (749, 0.016264461432096422), (750, 0.03133475182809482), (751, 0.06952611360665736), (752, 0.0448025986081221), (753, 0.006483871828025271), (754, 0.007098456219030286), (755, 0.09084325697095608), (756, 0.007570976699750918), (757, 0.008231254859750561), (758, 0.0), (759, 0.012607747225305565), (760, 0.0), (761, 0.005890169720149736), (762, 0.006632184979221928), (763, 0.0), (764, 0.0), (765, 0.03979144724258947), (766, 0.0), (767, 0.014940366649867129), (768, 0.022840301936180682), (769, 0.011115025782712567), (770, 0.0156647554708208), (771, 0.0), (772, 0.03918292184942652), (773, 0.060181791149878754), (774, 0.08447549535556284), (775, 0.011915993279398724), (776, 0.008275208509275838), (777, 0.021851460549680565), (778, 0.03360647292207582), (779, 0.0), (780, 0.0), (781, 0.030794061534807397), (782, 0.006226313145573065), (783, 0.024326608087393974), (784, 0.09484219837869981), (785, 0.01646486076669774), (786, 0.016004882401942696), (787, 0.03129620905084808), (788, 0.03958606777842884), (789, 0.0), (790, 0.023170896966015625), (791, 0.009432978927677025), (792, 0.007203651947086926), (793, 0.03404432206697337), (794, 0.011888468024059323), (795, 0.03278031297847233), (796, 0.0), (797, 0.0), (798, 0.0), (799, 0.028072035200542467), (800, 0.034543593175536985), (801, 0.0), (802, 0.0), (803, 0.0), (804, 0.00645847875065731), (805, 0.02867924631805487), (806, 0.026000172245502974), (807, 0.006647329254068586), (808, 0.014696995144020852), (809, 0.006659911938679449), (810, 0.018268616768411496), (811, 0.007659304664405878), (812, 0.008253909251312145), (813, 0.014198493536369509), (814, 0.01922188322286214), (815, 0.022574653453713688), (816, 0.016887433386009457), (817, 0.02393187915111962), (818, 0.023719031384644096), (819, 0.0), (820, 0.0), (821, 0.006181967355521787), (822, 0.008584399474876245), (823, 0.0063483894118025195), (824, 0.040624749898784784), (825, 0.022225381932754), (826, 0.008643102260141483), (827, 0.006986830726988908), (828, 0.006624329688542518), (829, 0.0), (830, 0.005624994429883279), (831, 0.023555182588119977), (832, 0.0), (833, 0.013904134564979308), (834, 0.015093281805782413), (835, 0.0), (836, 0.01338946964677072), (837, 0.0), (838, 0.006757204972711896), (839, 0.03645661412925629), (840, 0.01389879463443282), (841, 0.009039760072028603), (842, 0.028243513057704228), (843, 0.0), (844, 0.0063325572828882865), (845, 0.0), (846, 0.0), (847, 0.0), (848, 0.035837372193456646), (849, 0.0), (850, 0.006293319139654496), (851, 0.0), (852, 0.00767212600654482), (853, 0.027373064416128225), (854, 0.005721632694424975), (855, 0.015876037185716535), (856, 0.005930200135429463), (857, 0.036303208805042876), (858, 0.022607383753340593), (859, 0.034580400020353994), (860, 0.007121063456739683), (861, 0.0), (862, 0.01988085605517112), (863, 0.0066155436640182004), (864, 0.005944264627550027), (865, 0.0), (866, 0.027482691467488045), (867, 0.0), (868, 0.007829160962781889), (869, 0.03647885649127032), (870, 0.01473775616248674), (871, 0.0), (872, 0.03261043599099047), (873, 0.015019907421717184), (874, 0.007702237608302747), (875, 0.0071830698921726095), (876, 0.0), (877, 0.0), (878, 0.03976527417936219), (879, 0.0), (880, 0.006036528971156236), (881, 0.029623610474453558), (882, 0.008059898515559829), (883, 0.0), (884, 0.05899984296321629), (885, 0.008172246770286972), (886, 0.007319834676303465), (887, 0.007921364193159629), (888, 0.014353579578478907), (889, 0.017276990254084242), (890, 0.017843566587873408), (891, 0.0070182378521618065), (892, 0.013266242503702303), (893, 0.029468405118783198), (894, 0.04497659677261357), (895, 0.0), (896, 0.04455637156403325), (897, 0.0), (898, 0.01680040968869941), (899, 0.06130722577187672), (900, 0.038767969460191384), (901, 0.030635514388563774), (902, 0.007426470454673318), (903, 0.0), (904, 0.07033056946805828), (905, 0.0), (906, 0.01658370082766285), (907, 0.007180862598171623), (908, 0.0), (909, 0.0), (910, 0.030932079314132607), (911, 0.006573995866145354), (912, 0.008012533914955721), (913, 0.0), (914, 0.020310209395761933), (915, 0.006262497775316791), (916, 0.0), (917, 0.014171199719097527), (918, 0.0), (919, 0.03325154550733592), (920, 0.01389676496231329), (921, 0.0), (922, 0.014583021553244273), (923, 0.0), (924, 0.0), (925, 0.00792807896561456), (926, 0.0), (927, 0.0), (928, 0.0), (929, 0.005590526692353672), (930, 0.005798149775867635), (931, 0.008713746055353518), (932, 0.014223374111847337), (933, 0.014581107448411443), (934, 0.007061670661716458), (935, 0.016561086929733074), (936, 0.0), (937, 0.005838734601972719), (938, 0.0), (939, 0.03494899002759439), (940, 0.0), (941, 0.03242080218689934), (942, 0.016903225978062375), (943, 0.016338531186343964), (944, 0.0), (945, 0.024004712253379367), (946, 0.012015691386647258), (947, 0.0), (948, 0.0), (949, 0.018094864661742892), (950, 0.013004660722622604), (951, 0.0062209944711048215), (952, 0.006964802270793616), (953, 0.0), (954, 0.0), (955, 0.00581515614291858), (956, 0.006451498398717241), (957, 0.007058405502084671), (958, 0.0), (959, 0.02978623861046403), (960, 0.008657803771557395), (961, 0.014278734422722431), (962, 0.030532487775766483), (963, 0.017415996296643005), (964, 0.007473896866236046), (965, 0.0), (966, 0.0), (967, 0.0), (968, 0.0), (969, 0.013689507986032919), (970, 0.0), (971, 0.008175409723764194), (972, 0.0231937323460776), (973, 0.005668236168713637), (974, 0.0), (975, 0.0), (976, 0.01583587276108245), (977, 0.007747051321947873), (978, 0.008242672663903012), (979, 0.024440654734697198), (980, 0.02543242730116966), (981, 0.006455563477663093), (982, 0.05676573605865995), (983, 0.0), (984, 0.03415075818080898), (985, 0.03685131573415246), (986, 0.014814052235812565), (987, 0.0), (988, 0.006144288559180416), (989, 0.03611373751350399), (990, 0.02119325948199721), (991, 0.0), (992, 0.0061480740227980325), (993, 0.0146408383106723), (994, 0.025788022862204413), (995, 0.007114336732203317), (996, 0.0), (997, 0.0), (998, 0.0), (999, 0.005959906081230395), (1000, 0.006202514415733682), (1001, 0.06406138832706477), (1002, 0.0541309052539803), (1003, 0.09924242160405956), (1004, 0.0), (1005, 0.0), (1006, 0.013135306520413946), (1007, 0.0071518054542318845), (1008, 0.004605301991328852), (1009, 0.0), (1010, 0.0), (1011, 0.0), (1012, 0.015757956656227857), (1013, 0.0), (1014, 0.007818944508260355), (1015, 0.0), (1016, 0.019062349877782686), (1017, 0.019427315778801812), (1018, 0.010118132124777985), (1019, 0.03935332572822993), (1020, 0.0070152845614623646), (1021, 0.00796051347478855), (1022, 0.0), (1023, 0.0), (1024, 0.011578016485801076), (1025, 0.007162075707153084), (1026, 0.006032905508461754), (1027, 0.038016897351956756), (1028, 0.00724450851668932), (1029, 0.0), (1030, 0.00683882592112954), (1031, 0.00695184144927697), (1032, 0.006130229018028961), (1033, 0.0), (1034, 0.06044966407117465), (1035, 0.006570242920146319), (1036, 0.0), (1037, 0.0), (1038, 0.01656684580784068), (1039, 0.018593265827860188), (1040, 0.02346637996914295), (1041, 0.005628064237133052), (1042, 0.0), (1043, 0.00624933669138568), (1044, 0.013216823489880526), (1045, 0.007192695053259103), (1046, 0.0), (1047, 0.0), (1048, 0.0), (1049, 0.018195186508442568), (1050, 0.0077662538900587835), (1051, 0.016864613447657457), (1052, 0.00540107788441759), (1053, 0.0), (1054, 0.009826977571940437), (1055, 0.030784779426469504), (1056, 0.054439562109563515), (1057, 0.0), (1058, 0.012921093252494655), (1059, 0.008057357380385533), (1060, 0.0), (1061, 0.007919075901092438), (1062, 0.033697294532226356), (1063, 0.0), (1064, 0.015646614599110247), (1065, 0.0071137979074544526), (1066, 0.0), (1067, 0.02647338349149657), (1068, 0.008639239347543242), (1069, 0.0), (1070, 0.0066022214030817625), (1071, 0.0), (1072, 0.008079969464302448), (1073, 0.015155128226214667), (1074, 0.008491586204995714), (1075, 0.0), (1076, 0.03383350694274488), (1077, 0.033565350991895844), (1078, 0.0963915687968765), (1079, 0.013245815357771733), (1080, 0.01620587083370053), (1081, 0.03256191497690702), (1082, 0.012433886299887967), (1083, 0.015347104399331691), (1084, 0.07328531538320193), (1085, 0.0), (1086, 0.015352691170356716), (1087, 0.0), (1088, 0.0), (1089, 0.028120972261876587), (1090, 0.007646703474063889), (1091, 0.015444200803598158), (1092, 0.0), (1093, 0.013992995988559954), (1094, 0.0), (1095, 0.029658532353555672), (1096, 0.0059348023193363094), (1097, 0.005775573858018378), (1098, 0.007093120961495165), (1099, 0.009426450117321742), (1100, 0.013866462889684364), (1101, 0.07776596248027187), (1102, 0.0), (1103, 0.013845285754546167), (1104, 0.005790487768339333), (1105, 0.01756722813305542), (1106, 0.01346463772473128), (1107, 0.04171899807217234), (1108, 0.0), (1109, 0.020217574277759342), (1110, 0.029262684309013763), (1111, 0.024586555591697604), (1112, 0.0), (1113, 0.0), (1114, 0.007266468799557234), (1115, 0.029494161947135562), (1116, 0.0), (1117, 0.0), (1118, 0.025424473592655907), (1119, 0.005216805313534885), (1120, 0.00709143138701901), (1121, 0.0), (1122, 0.007592968823684123), (1123, 0.007481376239498203), (1124, 0.030439520179243326), (1125, 0.023942472972144448), (1126, 0.0341353282611509), (1127, 0.0), (1128, 0.006331700896493756), (1129, 0.0), (1130, 0.01524451539918219), (1131, 0.014164142433856075), (1132, 0.0), (1133, 0.006845035478603842), (1134, 0.007922672203649998), (1135, 0.0), (1136, 0.02788297986835076), (1137, 0.07235078770123214), (1138, 0.016494347075151166), (1139, 0.0656646289914492), (1140, 0.005413573035222906), (1141, 0.0), (1142, 0.0066793471054681685), (1143, 0.06643421123216593), (1144, 0.006642718553236721), (1145, 0.0), (1146, 0.005844590599226731), (1147, 0.0), (1148, 0.0), (1149, 0.0), (1150, 0.008011588794301276), (1151, 0.0), (1152, 0.018152300277027925), (1153, 0.004673464386259309), (1154, 0.0073986414508689), (1155, 0.03762190578222804), (1156, 0.0), (1157, 0.0), (1158, 0.006294402460800895), (1159, 0.0), (1160, 0.012304805569061486), (1161, 0.0), (1162, 0.008488398125364881), (1163, 0.0), (1164, 0.0843710529913152), (1165, 0.007242232238292423), (1166, 0.0), (1167, 0.008851687925180358), (1168, 0.007811814374692326), (1169, 0.02658339391639515), (1170, 0.0), (1171, 0.0), (1172, 0.046670385119110695), (1173, 0.0), (1174, 0.0056130430336220095), (1175, 0.06275017683754533), (1176, 0.0), (1177, 0.0051187393495018794), (1178, 0.006712535053774072), (1179, 0.03788839389222046), (1180, 0.02271997202504753), (1181, 0.018956223785214853), (1182, 0.0), (1183, 0.03344456671400393), (1184, 0.0), (1185, 0.029797110341071593), (1186, 0.0), (1187, 0.0), (1188, 0.006012985690720004), (1189, 0.0), (1190, 0.008688513033183423), (1191, 0.013179019399247417), (1192, 0.03833259976508939), (1193, 0.03156499663938967), (1194, 0.0), (1195, 0.006162880740796045), (1196, 0.0), (1197, 0.040104366252650674), (1198, 0.008022297522541412), (1199, 0.012701669457433028), (1200, 0.013961990128537022), (1201, 0.013435239502798714), (1202, 0.021747850511463194), (1203, 0.0), (1204, 0.007078502828149791), (1205, 0.05629635163589625), (1206, 0.0), (1207, 0.02230376801306904), (1208, 0.015689019094866745), (1209, 0.0), (1210, 0.0), (1211, 0.014485119889320521), (1212, 0.006804412799421818), (1213, 0.0055392921202574875), (1214, 0.007053972015516868), (1215, 0.006451360767707357), (1216, 0.007441193374442986), (1217, 0.023078853919336367), (1218, 0.0), (1219, 0.0384996647632466), (1220, 0.011826400428752895), (1221, 0.0), (1222, 0.018063323201754498), (1223, 0.0), (1224, 0.0), (1225, 0.033915043598328), (1226, 0.005897660292194409), (1227, 0.026712014297243982), (1228, 0.0), (1229, 0.0), (1230, 0.015514412365767047), (1231, 0.0), (1232, 0.007157125569504095), (1233, 0.0), (1234, 0.014493328778482358), (1235, 0.008333776035391285), (1236, 0.0), (1237, 0.0), (1238, 0.0), (1239, 0.014700483765523801), (1240, 0.0), (1241, 0.026731282986853788), (1242, 0.0), (1243, 0.0), (1244, 0.011579280618612194), (1245, 0.020591023710118467), (1246, 0.007658788025800494), (1247, 0.012766139667189492), (1248, 0.0069625322207427925), (1249, 0.006676726084419348), (1250, 0.0), (1251, 0.013419204648862978), (1252, 0.03243799099273806), (1253, 0.008376879442748114), (1254, 0.006580238296531301), (1255, 0.0), (1256, 0.01611060565542948), (1257, 0.02783710269793832), (1258, 0.011012862575303251), (1259, 0.00986810472437019), (1260, 0.007308414977644371), (1261, 0.02489393882716876), (1262, 0.0), (1263, 0.01514516764651858), (1264, 0.02192892624871424), (1265, 0.0), (1266, 0.03000627149553638), (1267, 0.008757927310291075), (1268, 0.0), (1269, 0.006893961770492971), (1270, 0.005607668546200708), (1271, 0.005951512520744404), (1272, 0.0065454136604084275), (1273, 0.015885271624866693), (1274, 0.01443717142270226), (1275, 0.0), (1276, 0.024454810046535432), (1277, 0.010780136941427154), (1278, 0.00727240666065701), (1279, 0.04151862605378453), (1280, 0.0), (1281, 0.005637515158820578), (1282, 0.025752824054858674), (1283, 0.033243932088079645), (1284, 0.02487095394191052), (1285, 0.04390887688708129), (1286, 0.005121619126462653), (1287, 0.008157524684889055), (1288, 0.008445667408652281), (1289, 0.006916795015748536), (1290, 0.0974373418710417), (1291, 0.00924741973988015), (1292, 0.0), (1293, 0.0), (1294, 0.01445790494261456), (1295, 0.010494343090112247), (1296, 0.011808488000048148), (1297, 0.0), (1298, 0.026617608219959697), (1299, 0.006933567886971027), (1300, 0.015475147921162762), (1301, 0.020442243935741608), (1302, 0.015168332046400074), (1303, 0.03793108710308773), (1304, 0.016667081164740367), (1305, 0.007645556794029807), (1306, 0.009861050033218589), (1307, 0.024942575596705246), (1308, 0.0), (1309, 0.027477281295547763), (1310, 0.017268560934095848), (1311, 0.008041016169670345), (1312, 0.0), (1313, 0.0), (1314, 0.0), (1315, 0.19409174568088694), (1316, 0.0), (1317, 0.0066663215979903215), (1318, 0.0), (1319, 0.006303194504998163), (1320, 0.015371201230155234), (1321, 0.020369458884713403), (1322, 0.01702823066524855), (1323, 0.015204505893788875), (1324, 0.022644442657979238), (1325, 0.0), (1326, 0.0079181479171066), (1327, 0.0), (1328, 0.0), (1329, 0.007716113473378597), (1330, 0.0), (1331, 0.01685080614368421), (1332, 0.005649358931179476), (1333, 0.015000822540534807), (1334, 0.0061341341603646715), (1335, 0.008588298734951958), (1336, 0.0), (1337, 0.01589953966727136), (1338, 0.0), (1339, 0.00640943928578132), (1340, 0.018543193459419675), (1341, 0.0214035175347003), (1342, 0.0338736766049082), (1343, 0.025349905062742404), (1344, 0.00818356993547567), (1345, 0.0), (1346, 0.0), (1347, 0.006043827758105247), (1348, 0.007215084617889516), (1349, 0.02943574366185651), (1350, 0.008074532625690382), (1351, 0.0), (1352, 0.007601366837536107), (1353, 0.0), (1354, 0.0), (1355, 0.0), (1356, 0.0), (1357, 0.02865895096556758), (1358, 0.009825930423136963), (1359, 0.0057177134866324185), (1360, 0.03640557392468274), (1361, 0.013361797076643), (1362, 0.0), (1363, 0.013751802693660407), (1364, 0.03463250114978372), (1365, 0.008155293649258634), (1366, 0.0068091591463951264), (1367, 0.028909393401711916), (1368, 0.025037863011296943), (1369, 0.0), (1370, 0.019775421861997447), (1371, 0.0), (1372, 0.0069159575512580266), (1373, 0.007971519369621637), (1374, 0.012395479221868125), (1375, 0.03596589157197892), (1376, 0.008278358142149049), (1377, 0.006753423115428515), (1378, 0.0), (1379, 0.0), (1380, 0.014741098202425165), (1381, 0.0), (1382, 0.009686246325384923), (1383, 0.0), (1384, 0.007807352097828915), (1385, 0.0), (1386, 0.08597442995590644), (1387, 0.019290336197950828), (1388, 0.03362373164064922), (1389, 0.0), (1390, 0.06932307275369422), (1391, 0.0), (1392, 0.0), (1393, 0.008979730681632273), (1394, 0.014768114563612059), (1395, 0.02312188561980824), (1396, 0.0), (1397, 0.0), (1398, 0.006972919155961523), (1399, 0.0066886242243250635), (1400, 0.0068843576674123596), (1401, 0.03347416354344764), (1402, 0.06035972828763274), (1403, 0.0), (1404, 0.03317169752475079), (1405, 0.0), (1406, 0.060004026368660035), (1407, 0.0226730115570416), (1408, 0.006707224462410894), (1409, 0.01893710968505976), (1410, 0.0), (1411, 0.0162824009294417), (1412, 0.0050652519361311975), (1413, 0.0), (1414, 0.006537730093981861), (1415, 0.0), (1416, 0.007558754928553387), (1417, 0.007172298317923569), (1418, 0.0), (1419, 0.030215745316658528), (1420, 0.0), (1421, 0.018781621759213926), (1422, 0.0), (1423, 0.0), (1424, 0.026120138389874117), (1425, 0.08542351202218061), (1426, 0.026166980650058954), (1427, 0.0), (1428, 0.029731778940815665), (1429, 0.0), (1430, 0.0), (1431, 0.005897016591678268), (1432, 0.006435798581110615), (1433, 0.03512130791950293), (1434, 0.025146334405432798), (1435, 0.033081957345633815), (1436, 0.0), (1437, 0.00563281632956903), (1438, 0.013234294005996312), (1439, 0.033756461179403174), (1440, 0.014572537881848), (1441, 0.0), (1442, 0.007366036558628357), (1443, 0.01852755622828849), (1444, 0.04426569577516602), (1445, 0.030654057473907675), (1446, 0.0), (1447, 0.029243118326199177), (1448, 0.006767813400679067), (1449, 0.03177439094480317), (1450, 0.005830730656598072), (1451, 0.0337251271830324), (1452, 0.021453170631818445), (1453, 0.005643407273153022), (1454, 0.00621034253974799), (1455, 0.0), (1456, 0.004849197775674437), (1457, 0.006149687586787605), (1458, 0.02889940888405726), (1459, 0.020812406335684683), (1460, 0.03267089695389222), (1461, 0.04696451805797336), (1462, 0.0), (1463, 0.00561331039465283), (1464, 0.0), (1465, 0.0061200627232553765), (1466, 0.013655468027955964), (1467, 0.0071127680087788425), (1468, 0.016220515038921066), (1469, 0.013781190055216233), (1470, 0.00630662810622008), (1471, 0.0), (1472, 0.006828281179682201), (1473, 0.0), (1474, 0.026944231160309723), (1475, 0.008414708275209043), (1476, 0.015149587400915713), (1477, 0.014795713657140669), (1478, 0.0), (1479, 0.007186156633237841), (1480, 0.03846029721190593), (1481, 0.015257183944363935), (1482, 0.0059902879548698025), (1483, 0.006633595359339815), (1484, 0.005633623072198751), (1485, 0.013065379869344773), (1486, 0.03107236756027429), (1487, 0.0), (1488, 0.04250009983540955), (1489, 0.0), (1490, 0.015151320479254743), (1491, 0.03269248109455306), (1492, 0.028666467005232687), (1493, 0.0160768746860291), (1494, 0.01985119782961542), (1495, 0.007343402625392426), (1496, 0.04306854757214361), (1497, 0.0), (1498, 0.02140524537878416), (1499, 0.05252954579988252), (1500, 0.019026936004887807), (1501, 0.025111595338545366), (1502, 0.0178603537020928), (1503, 0.007837295490622162), (1504, 0.0), (1505, 0.006857803699803012), (1506, 0.0), (1507, 0.01371836357082988), (1508, 0.0), (1509, 0.00919114135106284), (1510, 0.0063734185834949195), (1511, 0.0), (1512, 0.025642178850369155), (1513, 0.04314109370696014), (1514, 0.006468925212808121), (1515, 0.014415567184745789), (1516, 0.0), (1517, 0.005126204729466675), (1518, 0.020354565178241576), (1519, 0.0), (1520, 0.01591716980002585), (1521, 0.0), (1522, 0.0), (1523, 0.007290770247100765), (1524, 0.14034160468674425), (1525, 0.0), (1526, 0.025646429445876754), (1527, 0.0), (1528, 0.007193771979114242), (1529, 0.0), (1530, 0.0), (1531, 0.012056474954648181), (1532, 0.0), (1533, 0.0), (1534, 0.0), (1535, 0.0), (1536, 0.0), (1537, 0.0), (1538, 0.005594711335062683), (1539, 0.0), (1540, 0.02536458876906985), (1541, 0.0), (1542, 0.014081684893239662), (1543, 0.008911409604634263), (1544, 0.0), (1545, 0.01627907906104612), (1546, 0.030024226144059796), (1547, 0.0), (1548, 0.0), (1549, 0.0), (1550, 0.007836133180338116), (1551, 0.0066208233029146175), (1552, 0.0), (1553, 0.0), (1554, 0.01645078283488141), (1555, 0.0), (1556, 0.0), (1557, 0.0), (1558, 0.0), (1559, 0.04895436422390948), (1560, 0.020962948755795466), (1561, 0.02113730348804025), (1562, 0.007989502996738949), (1563, 0.023171078328710435), (1564, 0.015078937748346486), (1565, 0.043418881229066036), (1566, 0.0), (1567, 0.03740546348247614), (1568, 0.02121737712740133), (1569, 0.010566844162020394), (1570, 0.041889904931055474), (1571, 0.00724895718028247), (1572, 0.02760024299535286), (1573, 0.005983608440703803), (1574, 0.0), (1575, 0.006727262087784968), (1576, 0.024311245346387886), (1577, 0.021215320354983844), (1578, 0.0068040428788790274), (1579, 0.009422435618496995), (1580, 0.009698197931584317), (1581, 0.0), (1582, 0.02345109339616419), (1583, 0.02972543502523132), (1584, 0.020697048949609324), (1585, 0.0), (1586, 0.028482726624206436), (1587, 0.008319900196846251), (1588, 0.007075227703665318), (1589, 0.0), (1590, 0.016750472475122326), (1591, 0.007067889140725083), (1592, 0.02872807685261107), (1593, 0.0), (1594, 0.022339760322635925), (1595, 0.012634712317367998), (1596, 0.006259459160232352), (1597, 0.00785916379453865), (1598, 0.0), (1599, 0.007991339507682754), (1600, 0.0), (1601, 0.008435283197077656), (1602, 0.033888777691198815), (1603, 0.008028925349125207), (1604, 0.0), (1605, 0.0), (1606, 0.043946275076401094), (1607, 0.0071451391449390824), (1608, 0.018959288317819088), (1609, 0.0), (1610, 0.014685470821441714), (1611, 0.014945121154191759), (1612, 0.007908360694052877), (1613, 0.0), (1614, 0.0), (1615, 0.014608762764331637), (1616, 0.005720965940550566), (1617, 0.014759752607232179), (1618, 0.04384256274968151), (1619, 0.019850138920323675), (1620, 0.0), (1621, 0.0), (1622, 0.0), (1623, 0.02897026382054136), (1624, 0.008915774127942857), (1625, 0.005958656356209294), (1626, 0.005438042949590875), (1627, 0.0), (1628, 0.015363002164779802), (1629, 0.008311730860391687), (1630, 0.016523863729870678), (1631, 0.024205162032016857), (1632, 0.04302157811472118), (1633, 0.006556823821615469), (1634, 0.02565257347134493), (1635, 0.005944037034628699), (1636, 0.0068181777436101595), (1637, 0.004354748636677159), (1638, 0.007239665904125773), (1639, 0.0), (1640, 0.01645225315127561), (1641, 0.0), (1642, 0.0), (1643, 0.0), (1644, 0.0), (1645, 0.01376250793809657), (1646, 0.05029823099529569), (1647, 0.02553972097149109), (1648, 0.0), (1649, 0.025490012421547453), (1650, 0.036017890127959265), (1651, 0.0164735352691287), (1652, 0.028748530475214452), (1653, 0.005878424463230481), (1654, 0.0), (1655, 0.007218318503736502), (1656, 0.0), (1657, 0.0), (1658, 0.010002902027950825), (1659, 0.04813318606744814), (1660, 0.0), (1661, 0.006079671741316031), (1662, 0.0), (1663, 0.0105771223999659), (1664, 0.005927060741220558), (1665, 0.008879433853870754), (1666, 0.0), (1667, 0.028866064121012072), (1668, 0.0069363190582805425), (1669, 0.01311019660298999), (1670, 0.03030794739351233), (1671, 0.02117481201023258), (1672, 0.028657399181752294), (1673, 0.0), (1674, 0.01853193840585164), (1675, 0.007280378645232082), (1676, 0.0), (1677, 0.01755998297645179), (1678, 0.0), (1679, 0.009367017301108), (1680, 0.006669513224725958), (1681, 0.0), (1682, 0.008613258191655787), (1683, 0.0), (1684, 0.021219172682291797), (1685, 0.0), (1686, 0.01298209522281593), (1687, 0.016617907232578246), (1688, 0.007903623303924424), (1689, 0.007280821793926175), (1690, 0.0), (1691, 0.027283100599555347), (1692, 0.03122464962544138), (1693, 0.0), (1694, 0.01853656794300708), (1695, 0.0361390766362032), (1696, 0.017505552257236785), (1697, 0.06426987960960043), (1698, 0.0), (1699, 0.006541732215227731), (1700, 0.0), (1701, 0.008283958659656539), (1702, 0.006126275237474917), (1703, 0.014707935174445652), (1704, 0.0), (1705, 0.023625830761794784), (1706, 0.030531873103059787), (1707, 0.005711325907843241), (1708, 0.0), (1709, 0.0), (1710, 0.0), (1711, 0.013536955031694697), (1712, 0.0), (1713, 0.02727082567933881), (1714, 0.032379569831540785), (1715, 0.005106367876951488), (1716, 0.0), (1717, 0.007184864638588732), (1718, 0.0), (1719, 0.0), (1720, 0.006245912759269765), (1721, 0.019472451808438134), (1722, 0.0), (1723, 0.0), (1724, 0.0163313753883165), (1725, 0.012031754579286343), (1726, 0.042380034067051015), (1727, 0.0071113115399343025), (1728, 0.01239495420689811), (1729, 0.0), (1730, 0.0), (1731, 0.006756143816666978), (1732, 0.0), (1733, 0.03407331590039362), (1734, 0.04787321832452746), (1735, 0.0200248740870744), (1736, 0.0), (1737, 0.021865708688297937), (1738, 0.0), (1739, 0.007645339924094715), (1740, 0.042626066057022495), (1741, 0.006428905506020399), (1742, 0.022291903835171854), (1743, 0.02518205126049733), (1744, 0.042909590764197696), (1745, 0.0), (1746, 0.011601190471914442), (1747, 0.07961733897642503), (1748, 0.005375631442797257), (1749, 0.0), (1750, 0.024913711424519362), (1751, 0.021152286176507044), (1752, 0.0), (1753, 0.0185324256032448), (1754, 0.008072431718404431), (1755, 0.0), (1756, 0.007584208729702226), (1757, 0.006429426041763164), (1758, 0.015420059492083164), (1759, 0.019424624287690293), (1760, 0.01708796817678613), (1761, 0.029224163318574758), (1762, 0.0), (1763, 0.02495931631180957), (1764, 0.016387950828495795), (1765, 0.005691417447416608), (1766, 0.0), (1767, 0.0), (1768, 0.0), (1769, 0.039875616762866016), (1770, 0.0), (1771, 0.005764881623142083), (1772, 0.0), (1773, 0.0), (1774, 0.0), (1775, 0.0), (1776, 0.0), (1777, 0.030301797159183217), (1778, 0.0), (1779, 0.02590221529741529), (1780, 0.024246191054805803), (1781, 0.0), (1782, 0.0), (1783, 0.019233784433872574), (1784, 0.007474622764564225), (1785, 0.0), (1786, 0.0), (1787, 0.027365332924512542), (1788, 0.06550859401775969), (1789, 0.0), (1790, 0.014824949569446529), (1791, 0.06684923277740401), (1792, 0.006367909868822988), (1793, 0.02071923619449554), (1794, 0.04163317460331155), (1795, 0.04885542067161531), (1796, 0.0), (1797, 0.03547415639600409), (1798, 0.007442834997431813), (1799, 0.007918188670262151), (1800, 0.01178115449947294), (1801, 0.0), (1802, 0.005272845317986951), (1803, 0.03084885848151011), (1804, 0.07034371689596798), (1805, 0.008694253806002316), (1806, 0.037499296764586396), (1807, 0.061740883819322766), (1808, 0.0), (1809, 0.0), (1810, 0.0), (1811, 0.0), (1812, 0.0), (1813, 0.021563506036147602), (1814, 0.017836862416203678), (1815, 0.0061124650299688825), (1816, 0.023422950696701174), (1817, 0.010572584815939933), (1818, 0.06018765935271406), (1819, 0.0), (1820, 0.0), (1821, 0.0076553661058371665), (1822, 0.08091982374314845), (1823, 0.01867230777991691), (1824, 0.02501873213833557), (1825, 0.013929001179240133), (1826, 0.035809876378816954), (1827, 0.03704919805458613), (1828, 0.039581844547948664), (1829, 0.0), (1830, 0.005683922374974018), (1831, 0.0065273561242344845), (1832, 0.007450582550089204), (1833, 0.012770701571229717), (1834, 0.0), (1835, 0.007413449436403766), (1836, 0.03179282799748108), (1837, 0.004914488404268724), (1838, 0.0), (1839, 0.012678833286178927), (1840, 0.0077891723203708735), (1841, 0.007504537502370748), (1842, 0.02510166187888844), (1843, 0.0), (1844, 0.006725190212365003), (1845, 0.0), (1846, 0.01565593864328239), (1847, 0.017417389852760073), (1848, 0.005744316246851387), (1849, 0.0), (1850, 0.03348620355836224), (1851, 0.014306827415028388), (1852, 0.011904649668045065), (1853, 0.02945633689299504), (1854, 0.029179006683921878), (1855, 0.02863607541889898), (1856, 0.006987740788342333), (1857, 0.05160741733870434), (1858, 0.013309320007833893), (1859, 0.0), (1860, 0.006987480090202948), (1861, 0.0067464856840193195), (1862, 0.009017944612843847), (1863, 0.0), (1864, 0.0), (1865, 0.038192458076993244), (1866, 0.024006291257185734), (1867, 0.06742287627914276), (1868, 0.00650275364043494), (1869, 0.0), (1870, 0.006712669987906502), (1871, 0.0), (1872, 0.015211985502560435), (1873, 0.0), (1874, 0.022467985886776513), (1875, 0.011625481785615595), (1876, 0.0), (1877, 0.025381867408747427), (1878, 0.006903647667050672), (1879, 0.0), (1880, 0.006508631080706488), (1881, 0.0), (1882, 0.0443782818114365), (1883, 0.0), (1884, 0.0), (1885, 0.0), (1886, 0.0), (1887, 0.0070662933360332095), (1888, 0.014519493748317208), (1889, 0.0), (1890, 0.006015062092319064), (1891, 0.007415949764567757), (1892, 0.012800743531929922), (1893, 0.0), (1894, 0.026143831835851516), (1895, 0.027958097998914685), (1896, 0.0), (1897, 0.025694730778643184), (1898, 0.03129338244240411), (1899, 0.037677053850779935), (1900, 0.02221953526714438), (1901, 0.0), (1902, 0.026880616654384966), (1903, 0.02390011720985202), (1904, 0.0), (1905, 0.0), (1906, 0.011642255410422558), (1907, 0.02744197932669155), (1908, 0.02243606947067289), (1909, 0.05468472662853903), (1910, 0.006357110244654078), (1911, 0.0), (1912, 0.0), (1913, 0.0), (1914, 0.0), (1915, 0.04723353729228919), (1916, 0.0), (1917, 0.030766397077728415), (1918, 0.03888703733067285), (1919, 0.0410804373174734), (1920, 0.03742952595889171), (1921, 0.021006755692087504), (1922, 0.020168978543453772), (1923, 0.0), (1924, 0.0), (1925, 0.04266894454900354), (1926, 0.0), (1927, 0.0072641753736107815), (1928, 0.03690289061974623), (1929, 0.0), (1930, 0.028220534897890195), (1931, 0.008750005523691966), (1932, 0.05474259937007668), (1933, 0.007117047904956681), (1934, 0.012257784091813058), (1935, 0.0), (1936, 0.005356639841199673), (1937, 0.008085092005319627), (1938, 0.028351568719819392), (1939, 0.014296187940435343), (1940, 0.022280240608199976), (1941, 0.0), (1942, 0.015558747630720444), (1943, 0.0), (1944, 0.007279223968559778), (1945, 0.00676075954496883), (1946, 0.0), (1947, 0.0), (1948, 0.0), (1949, 0.0), (1950, 0.005814302794082112), (1951, 0.0), (1952, 0.0), (1953, 1.0), (1954, 0.02549787092040927), (1955, 0.005447594616342119), (1956, 0.06110119852770068), (1957, 0.0071573919305060385), (1958, 0.009103019253386805), (1959, 0.01761222476538605), (1960, 0.036198603651079006), (1961, 0.03438043382581138), (1962, 0.008693879922546837), (1963, 0.011611871362680024), (1964, 0.02184941623170628), (1965, 0.008540182728247102), (1966, 0.0), (1967, 0.0), (1968, 0.0), (1969, 0.008554518164086478), (1970, 0.016793412832075853), (1971, 0.0), (1972, 0.0), (1973, 0.021179754145681948), (1974, 0.011822313796237154), (1975, 0.03186510413755179), (1976, 0.0), (1977, 0.006377007831261387), (1978, 0.035648295889025274), (1979, 0.0), (1980, 0.006809412646881287), (1981, 0.0), (1982, 0.02221483036809112), (1983, 0.018621514830742186), (1984, 0.02927342717458796), (1985, 0.008447685553538548), (1986, 0.00725491850262972), (1987, 0.05131900361497656), (1988, 0.0), (1989, 0.0), (1990, 0.02374666330628506), (1991, 0.006465616544746066), (1992, 0.0), (1993, 0.010677525142772554), (1994, 0.05547216703099567), (1995, 0.005380698282769579), (1996, 0.006759448814588079), (1997, 0.04905232440192268), (1998, 0.015846358910489702), (1999, 0.05343712532785609), (2000, 0.00785352366285653), (2001, 0.009106496248634442), (2002, 0.006600671356404208), (2003, 0.008161075601878228), (2004, 0.0), (2005, 0.0), (2006, 0.017028197698127467), (2007, 0.005258117284069998), (2008, 0.045664781515646444), (2009, 0.016114898381025655), (2010, 0.08034856422761752), (2011, 0.010791091590509798), (2012, 0.10374015061055539), (2013, 0.019404703545014276), (2014, 0.0), (2015, 0.0), (2016, 0.004660144936284741), (2017, 0.007155940321142764), (2018, 0.00871088511070127), (2019, 0.0), (2020, 0.06284535954077557), (2021, 0.0), (2022, 0.006026406232891774), (2023, 0.005547273913144023), (2024, 0.01707885252486724), (2025, 0.0), (2026, 0.004353092803947652), (2027, 0.0), (2028, 0.0), (2029, 0.03389975379249223), (2030, 0.0), (2031, 0.0), (2032, 0.008018993731870826), (2033, 0.0), (2034, 0.0), (2035, 0.0), (2036, 0.02270149131148198), (2037, 0.0), (2038, 0.007820150112328814), (2039, 0.038810059224601526), (2040, 0.0), (2041, 0.0), (2042, 0.0), (2043, 0.03354714686444095), (2044, 0.02227075790758315), (2045, 0.03022049042391564), (2046, 0.014885177837799014), (2047, 0.0354356097188556), (2048, 0.007710027248762174), (2049, 0.03500476013746119), (2050, 0.005978747894307085), (2051, 0.022519242983104266), (2052, 0.03700012977887574), (2053, 0.038216299441291804), (2054, 0.013006055361512909), (2055, 0.007570551330073077), (2056, 0.0), (2057, 0.012032259011923147), (2058, 0.0), (2059, 0.008239906095739803), (2060, 0.0), (2061, 0.0), (2062, 0.011349316442098118), (2063, 0.0), (2064, 0.013245177983045283), (2065, 0.008672021383253905), (2066, 0.012485560619270695), (2067, 0.0), (2068, 0.0), (2069, 0.01371346977510071), (2070, 0.03902108331438921), (2071, 0.008730976040548975), (2072, 0.0), (2073, 0.0), (2074, 0.022584815803823842), (2075, 0.06024819222476056), (2076, 0.017984827890894776), (2077, 0.008134148542392413), (2078, 0.0), (2079, 0.0102619717270655), (2080, 0.0), (2081, 0.008748008935237766), (2082, 0.0), (2083, 0.0), (2084, 0.02369315787558106), (2085, 0.052705318066674625), (2086, 0.007927047364217552), (2087, 0.0), (2088, 0.025900857896792424), (2089, 0.06372483731331066), (2090, 0.0), (2091, 0.022246498339670205), (2092, 0.08844784269598824), (2093, 0.006599453468714021), (2094, 0.0), (2095, 0.019417523100344617), (2096, 0.011446250142617477), (2097, 0.03405848165225692), (2098, 0.0), (2099, 0.0), (2100, 0.02187946754812989), (2101, 0.0), (2102, 0.0), (2103, 0.007520763856505383), (2104, 0.0067811331576904535), (2105, 0.03163173501077383), (2106, 0.006648319374585542), (2107, 0.008087200572925415), (2108, 0.007760492581423163), (2109, 0.008015521578624084), (2110, 0.0), (2111, 0.005034121326867524), (2112, 0.0), (2113, 0.01911596780819289), (2114, 0.00923060994316212), (2115, 0.01662032013227156), (2116, 0.008242048144599863), (2117, 0.0), (2118, 0.0), (2119, 0.0), (2120, 0.0), (2121, 0.035275014740739186), (2122, 0.036255857154423046), (2123, 0.018051865301264614), (2124, 0.0), (2125, 0.0), (2126, 0.007097422510033521), (2127, 0.145026344341522), (2128, 0.008515869362375793), (2129, 0.01418708669113201), (2130, 0.0), (2131, 0.0106481886902348), (2132, 0.016518117003300803), (2133, 0.0), (2134, 0.018863660971694122), (2135, 0.0), (2136, 0.013173888846696019), (2137, 0.0), (2138, 0.01308542907344594), (2139, 0.0), (2140, 0.0059018715680432205), (2141, 0.03310463308225785), (2142, 0.022766346974874882), (2143, 0.0), (2144, 0.0), (2145, 0.0), (2146, 0.0), (2147, 0.0), (2148, 0.0062308515584466005), (2149, 0.0), (2150, 0.0), (2151, 0.03430314926542789), (2152, 0.028564619881115815), (2153, 0.0075656568169983444), (2154, 0.006927682854935474), (2155, 0.005984239269021875), (2156, 0.0241666841836077), (2157, 0.005795786641845761), (2158, 0.007154309545349629), (2159, 0.013963333064124457), (2160, 0.023588702359011605), (2161, 0.019806313242318775), (2162, 0.008837695879188184), (2163, 0.014482511478989398), (2164, 0.0), (2165, 0.014521132857210151), (2166, 0.0), (2167, 0.008367212763438816), (2168, 0.0), (2169, 0.019175689202656346), (2170, 0.0), (2171, 0.05266476316312505), (2172, 0.017047868376649056), (2173, 0.00704767182778158), (2174, 0.0), (2175, 0.014379366603394648), (2176, 0.0), (2177, 0.0), (2178, 0.030093569317968503), (2179, 0.007678242423553902), (2180, 0.0), (2181, 0.005585413753685003), (2182, 0.0), (2183, 0.00658010905918345), (2184, 0.0048756469013922195), (2185, 0.019472318670943067), (2186, 0.0), (2187, 0.0), (2188, 0.027006657546554822), (2189, 0.03612276475955698), (2190, 0.0240088494281811), (2191, 0.0), (2192, 0.019736828519239625), (2193, 0.0), (2194, 0.02193496982045947), (2195, 0.005771793459529767), (2196, 0.0061142764628895055), (2197, 0.007838847708164945), (2198, 0.048866143805919984), (2199, 0.0), (2200, 0.04448013236736156), (2201, 0.007431577911223889), (2202, 0.0), (2203, 0.012598103299790171), (2204, 0.0), (2205, 0.016710473195985797), (2206, 0.007085891174340494), (2207, 0.043847789572691954), (2208, 0.0), (2209, 0.039625863610480164), (2210, 0.0), (2211, 0.0), (2212, 0.03296183197959732), (2213, 0.0), (2214, 0.007952744956098143), (2215, 0.013688141139690142), (2216, 0.0), (2217, 0.00865430260282235), (2218, 0.020978487754781474), (2219, 0.02281942460620905), (2220, 0.0), (2221, 0.005205849667909908), (2222, 0.00767117512330567), (2223, 0.0), (2224, 0.006860378305358639), (2225, 0.02280315190985299), (2226, 0.0), (2227, 0.0), (2228, 0.0), (2229, 0.005734326212304878), (2230, 0.0), (2231, 0.0), (2232, 0.0), (2233, 0.0), (2234, 0.0), (2235, 0.0), (2236, 0.0), (2237, 0.005879016639454637), (2238, 0.0), (2239, 0.025942881963131863), (2240, 0.0), (2241, 0.05801325979088354), (2242, 0.0), (2243, 0.0), (2244, 0.006105765683492826), (2245, 0.016659237831779652), (2246, 0.02264743457033969), (2247, 0.02922364407945251), (2248, 0.016834264008352008), (2249, 0.0), (2250, 0.015348638691799057), (2251, 0.0), (2252, 0.0), (2253, 0.0055821909182645745), (2254, 0.02384029966162203), (2255, 0.032695151350611254), (2256, 0.0), (2257, 0.007867114998170069), (2258, 0.0), (2259, 0.0), (2260, 0.0066379537620020745), (2261, 0.026375624277378086), (2262, 0.0), (2263, 0.0), (2264, 0.006281241780781658), (2265, 0.02698954760403606), (2266, 0.0), (2267, 0.0), (2268, 0.02756846916658771), (2269, 0.0), (2270, 0.008851236175945434), (2271, 0.017046327999771876), (2272, 0.0), (2273, 0.02557655781893221), (2274, 0.013067414138147021), (2275, 0.0), (2276, 0.006846636706302709), (2277, 0.0234075104897701), (2278, 0.007079880346091336), (2279, 0.019367564237823383), (2280, 0.0), (2281, 0.0), (2282, 0.03242603191792308), (2283, 0.0), (2284, 0.0), (2285, 0.007770494641027074), (2286, 0.0), (2287, 0.0), (2288, 0.006057711074722622), (2289, 0.02719578961599803), (2290, 0.0), (2291, 0.005432670718776186), (2292, 0.057795586568929976), (2293, 0.006272646927958448), (2294, 0.006856505074124791), (2295, 0.00645424308429219), (2296, 0.02344324857224149), (2297, 0.024748778079696918), (2298, 0.029852244656358107), (2299, 0.006360534980857214), (2300, 0.014262525205978854), (2301, 0.008131015202389619), (2302, 0.0), (2303, 0.0), (2304, 0.014934196445804702), (2305, 0.012499520603435437), (2306, 0.011901476612153065), (2307, 0.0), (2308, 0.0), (2309, 0.007006513082528493), (2310, 0.007308830681709556), (2311, 0.007433610953919913), (2312, 0.0), (2313, 0.03798051155203967), (2314, 0.0067326061971995825), (2315, 0.0), (2316, 0.0), (2317, 0.059788195961429445), (2318, 0.0), (2319, 0.0), (2320, 0.035410148849434435), (2321, 0.009662449847386817), (2322, 0.0), (2323, 0.033241218352651515), (2324, 0.0), (2325, 0.00869706620717491), (2326, 0.0), (2327, 0.013370409741878999), (2328, 0.016767658329382994), (2329, 0.0), (2330, 0.0), (2331, 0.006854989071732228), (2332, 0.0), (2333, 0.00768412531708036), (2334, 0.0), (2335, 0.0), (2336, 0.02922397262164994), (2337, 0.007392278200979125), (2338, 0.023644223109840073), (2339, 0.0), (2340, 0.005589789189269592), (2341, 0.0), (2342, 0.02783650074139157), (2343, 0.02258506828751417), (2344, 0.0), (2345, 0.007777930899092075), (2346, 0.05923760062899952), (2347, 0.008984060260611633), (2348, 0.08890290141260261), (2349, 0.005808563708028363), (2350, 0.0), (2351, 0.0), (2352, 0.016175928053835054), (2353, 0.0), (2354, 0.04069383942325354), (2355, 0.02294646167036817), (2356, 0.008942316219120004), (2357, 0.02942820456199649), (2358, 0.0), (2359, 0.02351565792674243), (2360, 0.027544935706512612), (2361, 0.0), (2362, 0.00782956320124979), (2363, 0.007985751309481964), (2364, 0.007955498249670902), (2365, 0.007041855923898473), (2366, 0.00668645333372774), (2367, 0.10093841277831235), (2368, 0.016921050563345825), (2369, 0.04782521701308507), (2370, 0.016061877314192157), (2371, 0.006379017398004624), (2372, 0.013681629691580589), (2373, 0.02500083092791887), (2374, 0.007360638161218747), (2375, 0.009134910913424757), (2376, 0.07292359014441029), (2377, 0.040178753750398935), (2378, 0.0), (2379, 0.0), (2380, 0.0143382057710083), (2381, 0.0), (2382, 0.11526674797398792), (2383, 0.0), (2384, 0.014102667395991177), (2385, 0.0), (2386, 0.11300667509391871), (2387, 0.0), (2388, 0.006020103692980057), (2389, 0.02929941472381008), (2390, 0.03086666117076093), (2391, 0.0), (2392, 0.0), (2393, 0.0), (2394, 0.026403871922598007), (2395, 0.00681977947702865), (2396, 0.0), (2397, 0.015108299223350887), (2398, 0.006130348751039591), (2399, 0.0), (2400, 0.0492639192021372), (2401, 0.015871140879855847), (2402, 0.010794677829480546), (2403, 0.051811163849685926), (2404, 0.006960715361730397), (2405, 0.0), (2406, 0.013576587153980536), (2407, 0.05183507474249959), (2408, 0.015271301539008707), (2409, 0.053286106125737635), (2410, 0.0), (2411, 0.0), (2412, 0.006469056387772865), (2413, 0.0), (2414, 0.008120060974168125), (2415, 0.0), (2416, 0.0332702075832866), (2417, 0.04655612149690743), (2418, 0.0), (2419, 0.0), (2420, 0.0), (2421, 0.0), (2422, 0.02657651499647153), (2423, 0.03689552780645965), (2424, 0.0), (2425, 0.0), (2426, 0.0), (2427, 0.0), (2428, 0.0), (2429, 0.019428179950423452), (2430, 0.0), (2431, 0.006629162089291126), (2432, 0.01413669812047113), (2433, 0.009857654240524915), (2434, 0.0), (2435, 0.01995373461844974), (2436, 0.0), (2437, 0.040802744275665964), (2438, 0.071604374498909), (2439, 0.006257969221398557), (2440, 0.0), (2441, 0.007266152019817349), (2442, 0.015408469058102687), (2443, 0.0), (2444, 0.033112385734853526), (2445, 0.0), (2446, 0.0), (2447, 0.008602302027272421), (2448, 0.0), (2449, 0.03179697393301452), (2450, 0.03433762003707609), (2451, 0.008335250574816344), (2452, 0.0), (2453, 0.0), (2454, 0.0), (2455, 0.007100634346049049), (2456, 0.016063410585036006), (2457, 0.008128828406569661), (2458, 0.08882108267345723), (2459, 0.034517493593384664), (2460, 0.0), (2461, 0.006158272330361121), (2462, 0.022030488109755497), (2463, 0.022741640287027822), (2464, 0.013049247813210806), (2465, 0.023461070941940245), (2466, 0.006942511713047314), (2467, 0.007720061140915392), (2468, 0.0), (2469, 0.013486758395120053), (2470, 0.005081299876859028), (2471, 0.006364181903351532), (2472, 0.0831230979684789), (2473, 0.007633006017158331), (2474, 0.019276817738739592), (2475, 0.02544968992028965), (2476, 0.0), (2477, 0.0), (2478, 0.0), (2479, 0.0), (2480, 0.007976707863582105), (2481, 0.008920637585347715), (2482, 0.0), (2483, 0.03898173682576146), (2484, 0.0), (2485, 0.029339948898169627), (2486, 0.027632742453919067), (2487, 0.06239157594584824), (2488, 0.0), (2489, 0.012627859779477961), (2490, 0.014756355259529907), (2491, 0.0), (2492, 0.014423767551911038), (2493, 0.022566848126067462), (2494, 0.04859033865777511), (2495, 0.042766562620085234), (2496, 0.007131433626733948), (2497, 0.0), (2498, 0.016643602720508906), (2499, 0.0), (2500, 0.009059935091239568), (2501, 0.017269461193056217), (2502, 0.0), (2503, 0.0), (2504, 0.0), (2505, 0.0), (2506, 0.03675854321558508), (2507, 0.0), (2508, 0.011077842306818539), (2509, 0.01361690786311573), (2510, 0.06492761458912848), (2511, 0.0), (2512, 0.0), (2513, 0.005631066209495539), (2514, 0.013389963452706006), (2515, 0.0174969856004683), (2516, 0.0), (2517, 0.01687735492564205), (2518, 0.0), (2519, 0.01030559418393753), (2520, 0.0), (2521, 0.012220612051161404), (2522, 0.01585158100253813), (2523, 0.0), (2524, 0.0), (2525, 0.0), (2526, 0.0), (2527, 0.01298506197511437), (2528, 0.0), (2529, 0.012472850672094452), (2530, 0.0), (2531, 0.0), (2532, 0.006402145606054808), (2533, 0.013276768591022033), (2534, 0.02379320510176924), (2535, 0.05977351781673629), (2536, 0.0), (2537, 0.0), (2538, 0.008786010308135778), (2539, 0.0), (2540, 0.0), (2541, 0.0), (2542, 0.018933936957970854), (2543, 0.021443813359586495), (2544, 0.0), (2545, 0.0), (2546, 0.015530502797429901), (2547, 0.05065761540782311), (2548, 0.0), (2549, 0.006840841834167704), (2550, 0.028606021856555027), (2551, 0.0), (2552, 0.008556311597018291), (2553, 0.044614409779969194), (2554, 0.007441173646581563), (2555, 0.0), (2556, 0.013169626399388122), (2557, 0.0), (2558, 0.005986583403192992), (2559, 0.0), (2560, 0.02296565741458087), (2561, 0.0), (2562, 0.0), (2563, 0.0), (2564, 0.012722686151628282), (2565, 0.014001198647610319), (2566, 0.0), (2567, 0.0), (2568, 0.0), (2569, 0.09550657343033797), (2570, 0.040264482563098364), (2571, 0.038270426760325923), (2572, 0.014886981272639764), (2573, 0.062283568826953656), (2574, 0.0), (2575, 0.0), (2576, 0.0), (2577, 0.0370843997233345), (2578, 0.04164484871402435), (2579, 0.005821633897421111), (2580, 0.006726821983626374), (2581, 0.012666923748096116), (2582, 0.0), (2583, 0.00669388076030157), (2584, 0.0), (2585, 0.025830661260967256), (2586, 0.007293105347388081), (2587, 0.013938303034585889), (2588, 0.0), (2589, 0.0), (2590, 0.007602774391678762), (2591, 0.0), (2592, 0.018675113514000106), (2593, 0.0), (2594, 0.007985079403027706), (2595, 0.02690489688816093), (2596, 0.021090955768891494), (2597, 0.016166330468065822), (2598, 0.0), (2599, 0.030197977223214677), (2600, 0.0076665567424721625), (2601, 0.0), (2602, 0.005381859247009982), (2603, 0.015293348645949808), (2604, 0.009028787997656046), (2605, 0.02419124947456947), (2606, 0.020682656835668813), (2607, 0.0), (2608, 0.0), (2609, 0.00586222827763404), (2610, 0.0), (2611, 0.039207581666851885), (2612, 0.0), (2613, 0.02187663521083113), (2614, 0.031131269317403627), (2615, 0.0), (2616, 0.0), (2617, 0.016180580100920283), (2618, 0.0), (2619, 0.0), (2620, 0.0), (2621, 0.008348820835044131), (2622, 0.0), (2623, 0.006967314527415253), (2624, 0.014497902001719421), (2625, 0.006343325478263473), (2626, 0.0), (2627, 0.0), (2628, 0.012952155539137934), (2629, 0.01198374499225685), (2630, 0.007317964353288016), (2631, 0.0), (2632, 0.07021127832192409), (2633, 0.026219241486475198), (2634, 0.0), (2635, 0.0), (2636, 0.0), (2637, 0.0), (2638, 0.0), (2639, 0.00534244930240181), (2640, 0.0), (2641, 0.020343697573300762), (2642, 0.0), (2643, 0.04823383111748133), (2644, 0.014440107411150559), (2645, 0.031801487293977346), (2646, 0.006923944508740175), (2647, 0.0), (2648, 0.013371018526253116), (2649, 0.015245165590188342), (2650, 0.03963791055996314), (2651, 0.007200458627903104), (2652, 0.0), (2653, 0.017805341298599165), (2654, 0.0), (2655, 0.015943894848217358), (2656, 0.0), (2657, 0.005088695256861315), (2658, 0.0), (2659, 0.027174052142940868), (2660, 0.0), (2661, 0.006081439876888759), (2662, 0.0), (2663, 0.0), (2664, 0.0), (2665, 0.0), (2666, 0.0063374595550275015), (2667, 0.006408789250109557), (2668, 0.0243928951432554), (2669, 0.0219780845354794), (2670, 0.0), (2671, 0.0), (2672, 0.0), (2673, 0.0), (2674, 0.0), (2675, 0.013830617730050919), (2676, 0.0), (2677, 0.024377281227643717), (2678, 0.02608589572814544), (2679, 0.0), (2680, 0.016034084633987256), (2681, 0.012598170734859939), (2682, 0.01596192869982106), (2683, 0.014202992974641535), (2684, 0.008288884050629145), (2685, 0.0), (2686, 0.013508783091283328), (2687, 0.011073516578375686), (2688, 0.008264170457545447), (2689, 0.0), (2690, 0.016719599220767448), (2691, 0.0), (2692, 0.0), (2693, 0.008393221215325168), (2694, 0.0), (2695, 0.009027326938735265), (2696, 0.01242319142962551), (2697, 0.011230215580076605), (2698, 0.007055782725932393), (2699, 0.0), (2700, 0.0), (2701, 0.03713122288002613), (2702, 0.03425371046715183), (2703, 0.006656355392895974), (2704, 0.005152892208705575), (2705, 0.0), (2706, 0.03473815845585257), (2707, 0.009507861319033169), (2708, 0.05245646069532085), (2709, 0.04237866531256772), (2710, 0.007210648240736638), (2711, 0.01436034694047566), (2712, 0.05025342953678916), (2713, 0.019761210805169606), (2714, 0.0), (2715, 0.016503295460669663), (2716, 0.0076630906933768195), (2717, 0.008362778036608133), (2718, 0.022096233454668823), (2719, 0.007789014796051998), (2720, 0.0), (2721, 0.02154152056411166), (2722, 0.0), (2723, 0.0), (2724, 0.014592433789112548), (2725, 0.0), (2726, 0.033251801323201324), (2727, 0.0), (2728, 0.051381942304217276), (2729, 0.0), (2730, 0.0), (2731, 0.0), (2732, 0.007305674485837242), (2733, 0.0), (2734, 0.0), (2735, 0.0), (2736, 0.012924693028001345), (2737, 0.0), (2738, 0.007785446420704826), (2739, 0.006794726660946329), (2740, 0.0), (2741, 0.0), (2742, 0.0), (2743, 0.0), (2744, 0.0), (2745, 0.0), (2746, 0.014238142087300927), (2747, 0.012316381037305337), (2748, 0.0), (2749, 0.0), (2750, 0.02026528326823029), (2751, 0.024353769109800544), (2752, 0.0), (2753, 0.0), (2754, 0.01073219370004089), (2755, 0.025799894610820225), (2756, 0.006760767178961102), (2757, 0.010837220031824506), (2758, 0.007666369658292193), (2759, 0.006987801967663902), (2760, 0.0), (2761, 0.0), (2762, 0.0), (2763, 0.0), (2764, 0.0), (2765, 0.0), (2766, 0.02332103888312699), (2767, 0.024637943227083497), (2768, 0.029057663512649837), (2769, 0.007173118934199893), (2770, 0.0), (2771, 0.0451514833015432), (2772, 0.008060745933640914), (2773, 0.0), (2774, 0.028995432557797064), (2775, 0.02310622002951566), (2776, 0.02546908666894119), (2777, 0.0164241748354243), (2778, 0.0), (2779, 0.009447555205688803), (2780, 0.0), (2781, 0.005940632240834292), (2782, 0.004565254866984363), (2783, 0.0), (2784, 0.0291141475774408), (2785, 0.02289556890794775), (2786, 0.007584155109841061), (2787, 0.014054140078829717), (2788, 0.0077844287041312745), (2789, 0.008695680853758693), (2790, 0.02029930227965903), (2791, 0.007546243980726423), (2792, 0.013132377763409123), (2793, 0.028704091170461542), (2794, 0.012863599191383924), (2795, 0.0), (2796, 0.014134573858580614), (2797, 0.023200686886709333), (2798, 0.0), (2799, 0.0), (2800, 0.007484509936018769), (2801, 0.0), (2802, 0.029469188078453303), (2803, 0.005428606553013795), (2804, 0.0), (2805, 0.015798678640073862), (2806, 0.024978149695622162), (2807, 0.0), (2808, 0.012976704145735948), (2809, 0.00869231754455569), (2810, 0.025984340774527777), (2811, 0.0), (2812, 0.014512877800482129), (2813, 0.008409819191767861), (2814, 0.0), (2815, 0.024657532971072392), (2816, 0.03294051784249184), (2817, 0.0), (2818, 0.006878337480787866), (2819, 0.005318705585958386), (2820, 0.007501838208556362), (2821, 0.0), (2822, 0.0065156367070660125), (2823, 0.009090660066532058), (2824, 0.0), (2825, 0.006933407514028257), (2826, 0.007877536630682079), (2827, 0.014522552772214436), (2828, 0.024232309952123478), (2829, 0.018267591661180294), (2830, 0.0), (2831, 0.0), (2832, 0.0), (2833, 0.0), (2834, 0.0), (2835, 0.025879078556628205), (2836, 0.007496122542005874), (2837, 0.0), (2838, 0.0075661403924869785), (2839, 0.0), (2840, 0.0), (2841, 0.0), (2842, 0.0), (2843, 0.0), (2844, 0.0), (2845, 0.011957631638487195), (2846, 0.007644720805682769), (2847, 0.007244540722228679), (2848, 0.0), (2849, 0.007364262691657844), (2850, 0.0), (2851, 0.0), (2852, 0.017409980784479435), (2853, 0.04059765071217809), (2854, 0.009563116278347685), (2855, 0.009113449411486669), (2856, 0.022299315321819155), (2857, 0.028527975020105605), (2858, 0.008477637616298177), (2859, 0.008510547444528225), (2860, 0.027328062170907934), (2861, 0.0), (2862, 0.0), (2863, 0.021446250321242415), (2864, 0.0), (2865, 0.0), (2866, 0.022122737018781504), (2867, 0.008459139438649111), (2868, 0.0049370487214874005), (2869, 0.0), (2870, 0.0), (2871, 0.058617891585264995), (2872, 0.03594879250513111), (2873, 0.0), (2874, 0.019150338216248737), (2875, 0.02476624486756164), (2876, 0.0), (2877, 0.0), (2878, 0.028260574831256234), (2879, 0.0), (2880, 0.0), (2881, 0.0), (2882, 0.0), (2883, 0.0), (2884, 0.006228749763553591), (2885, 0.008925475440648745), (2886, 0.007791466857644045), (2887, 0.006437719923501631), (2888, 0.0), (2889, 0.0), (2890, 0.01504207923072965), (2891, 0.0), (2892, 0.011277574641082323), (2893, 0.0), (2894, 0.0), (2895, 0.0), (2896, 0.0), (2897, 0.0), (2898, 0.014765848505626074), (2899, 0.05106521245863148), (2900, 0.0), (2901, 0.0), (2902, 0.0), (2903, 0.0), (2904, 0.0), (2905, 0.015618894128716197), (2906, 0.006828649759781513), (2907, 0.0), (2908, 0.0), (2909, 0.013990604013433766), (2910, 0.02870210187486196), (2911, 0.0), (2912, 0.012859940621168745), (2913, 0.01541534999716815), (2914, 0.006081593231128709), (2915, 0.052289372085004115), (2916, 0.00835184842190857), (2917, 0.0), (2918, 0.006214366092841272), (2919, 0.025458023172830867), (2920, 0.0), (2921, 0.03889343272106213), (2922, 0.012601780621133747), (2923, 0.0), (2924, 0.0), (2925, 0.006167259909301885), (2926, 0.0), (2927, 0.00723297050246512), (2928, 0.0), (2929, 0.0), (2930, 0.008373643487272677), (2931, 0.007756466692433181), (2932, 0.024584591120807908), (2933, 0.00864903424036904), (2934, 0.011611291875999016), (2935, 0.007351994375715193), (2936, 0.006291203769084411), (2937, 0.015552250795759167), (2938, 0.0), (2939, 0.008450816268234716), (2940, 0.007075290041049754), (2941, 0.0), (2942, 0.0), (2943, 0.0), (2944, 0.047957767750489336), (2945, 0.04135048337779617), (2946, 0.006952618489704128), (2947, 0.016643848013600828), (2948, 0.0), (2949, 0.006886471834254332), (2950, 0.0071626266139296485), (2951, 0.0), (2952, 0.008274847836058218), (2953, 0.046454386891398004), (2954, 0.013482411966665903), (2955, 0.054755516118317055), (2956, 0.0), (2957, 0.0), (2958, 0.0), (2959, 0.006160609062329722), (2960, 0.006988581290096146), (2961, 0.0), (2962, 0.006944606694410888), (2963, 0.009687143777577126), (2964, 0.0), (2965, 0.0), (2966, 0.015788755593521085), (2967, 0.007140402380014102), (2968, 0.008698485805488125), (2969, 0.008286652967207542), (2970, 0.0), (2971, 0.006465608643318114), (2972, 0.03762922848529639), (2973, 0.02008821160537576), (2974, 0.0), (2975, 0.0), (2976, 0.0), (2977, 0.0), (2978, 0.005885186986365077), (2979, 0.0), (2980, 0.021298392426780957), (2981, 0.019949851121610827), (2982, 0.0), (2983, 0.0), (2984, 0.008395232967518833), (2985, 0.014118646930464437), (2986, 0.046558542353499766), (2987, 0.0), (2988, 0.017236149299242196), (2989, 0.0), (2990, 0.026691380839440223), (2991, 0.11690693812342275), (2992, 0.0), (2993, 0.0), (2994, 0.0161754746806261), (2995, 0.014360660103644037), (2996, 0.026472712127901338), (2997, 0.013379808280321074), (2998, 0.0), (2999, 0.0), (3000, 0.0), (3001, 0.012086368403156772), (3002, 0.0), (3003, 0.007228393567202071), (3004, 0.026844901930704906), (3005, 0.0), (3006, 0.0), (3007, 0.004973266068437324), (3008, 0.005092190331561904), (3009, 0.03947398864715568), (3010, 0.006096272728595609), (3011, 0.02407068452173758), (3012, 0.020977387451026116), (3013, 0.007676689968366475), (3014, 0.0), (3015, 0.011708580360828148), (3016, 0.0), (3017, 0.0), (3018, 0.0), (3019, 0.0), (3020, 0.006257740678397209), (3021, 0.007057805222944198), (3022, 0.0), (3023, 0.015784689015474297), (3024, 0.0), (3025, 0.0), (3026, 0.0), (3027, 0.00734728519794092), (3028, 0.010178765538638038), (3029, 0.005791392534670277), (3030, 0.005895019448692131), (3031, 0.0), (3032, 0.04196066712514561), (3033, 0.018688253667462462), (3034, 0.0), (3035, 0.013031236983733239), (3036, 0.0), (3037, 0.018511316354252228), (3038, 0.0), (3039, 0.0), (3040, 0.006335488732313779), (3041, 0.007419057248906892), (3042, 0.016246397944590766), (3043, 0.010550681080624567), (3044, 0.007476528457847042), (3045, 0.0), (3046, 0.0), (3047, 0.017312336525890263), (3048, 0.0), (3049, 0.0), (3050, 0.02465264223312525), (3051, 0.016761036956937585), (3052, 0.0), (3053, 0.02049770760921905), (3054, 0.03161795468477086), (3055, 0.007921127802677478), (3056, 0.0), (3057, 0.0), (3058, 0.0), (3059, 0.0), (3060, 0.007592427023948229), (3061, 0.0), (3062, 0.013754913963556766), (3063, 0.03225572783765595), (3064, 0.00692423219709962), (3065, 0.006978502449302261), (3066, 0.0), (3067, 0.02616242063511684), (3068, 0.007568066790337653), (3069, 0.0), (3070, 0.01492713197297631), (3071, 0.0072313725702542), (3072, 0.019127083712112615), (3073, 0.0057137863947095404), (3074, 0.005811520443571083), (3075, 0.015462874589160945), (3076, 0.00719408724476366), (3077, 0.006361267818550625), (3078, 0.009327930065707665), (3079, 0.0), (3080, 0.0), (3081, 0.017459277266384743), (3082, 0.007606146937446543), (3083, 0.0), (3084, 0.0), (3085, 0.0), (3086, 0.012862143943154346), (3087, 0.021612147378154097), (3088, 0.0), (3089, 0.006650618432406509), (3090, 0.0), (3091, 0.0), (3092, 0.0), (3093, 0.0), (3094, 0.0), (3095, 0.007009436041015755), (3096, 0.0), (3097, 0.006482600662647758), (3098, 0.015278083364418014), (3099, 0.00512200064419568), (3100, 0.0), (3101, 0.0), (3102, 0.018592599390043568), (3103, 0.0), (3104, 0.0), (3105, 0.0), (3106, 0.005961718845031671), (3107, 0.007067548587841805), (3108, 0.0), (3109, 0.0), (3110, 0.015615407347735737), (3111, 0.0), (3112, 0.0), (3113, 0.017008741111796778), (3114, 0.009039660272528382), (3115, 0.0), (3116, 0.09163205732331275), (3117, 0.009763101835980892), (3118, 0.0), (3119, 0.0), (3120, 0.0), (3121, 0.0), (3122, 0.008484744165766328), (3123, 0.03212916270336311), (3124, 0.0), (3125, 0.0), (3126, 0.0), (3127, 0.0), (3128, 0.007034040793094968), (3129, 0.00932971972573825), (3130, 0.018084902744269476), (3131, 0.006155848526661864), (3132, 0.0068973144370535035), (3133, 0.0195171972520357), (3134, 0.009310908290669113), (3135, 0.0), (3136, 0.012965617592403535), (3137, 0.0), (3138, 0.005615547285382528), (3139, 0.0), (3140, 0.006206274424819036), (3141, 0.0), (3142, 0.006533654823168008), (3143, 0.01145356716725628), (3144, 0.006926202555652032), (3145, 0.008105730262120912), (3146, 0.0), (3147, 0.0), (3148, 0.013211891704004233), (3149, 0.006562635073614867), (3150, 0.10025501701281245), (3151, 0.005902520756730217), (3152, 0.0), (3153, 0.020000098741901246), (3154, 0.01583224182893868), (3155, 0.0), (3156, 0.0), (3157, 0.00785689264489598), (3158, 0.005702436185086237), (3159, 0.015116840719607763), (3160, 0.0), (3161, 0.024496809841521458), (3162, 0.011738270296635638), (3163, 0.0), (3164, 0.008240165228959226), (3165, 0.005498170045997225), (3166, 0.0), (3167, 0.0), (3168, 0.0), (3169, 0.01149500253742472), (3170, 0.006833097413191179), (3171, 0.00782724083395954), (3172, 0.0), (3173, 0.0), (3174, 0.0), (3175, 0.0), (3176, 0.007854472920880111), (3177, 0.10302140138739949), (3178, 0.0), (3179, 0.006424326217621161), (3180, 0.02138326720453771), (3181, 0.0), (3182, 0.0), (3183, 0.05218715856493682), (3184, 0.013949752211303035), (3185, 0.0), (3186, 0.00880593118694959), (3187, 0.0), (3188, 0.02299719418430931), (3189, 0.0), (3190, 0.0), (3191, 0.016944749175791755), (3192, 0.0), (3193, 0.0), (3194, 0.01811952116073971), (3195, 0.0), (3196, 0.0), (3197, 0.016350091789391546), (3198, 0.019071723127268736), (3199, 0.0), (3200, 0.008540569110342604), (3201, 0.03322600486723103), (3202, 0.02551104689169039), (3203, 0.0), (3204, 0.0), (3205, 0.013249582358815336), (3206, 0.0), (3207, 0.0), (3208, 0.029490338113389906), (3209, 0.005503870809831657), (3210, 0.014255981123155828), (3211, 0.024825288864238335), (3212, 0.0066874657748591275), (3213, 0.0), (3214, 0.0), (3215, 0.007377819896122036), (3216, 0.0), (3217, 0.0), (3218, 0.006208615885853774), (3219, 0.006487581070983056), (3220, 0.0), (3221, 0.021562206866232426), (3222, 0.026565574960763262), (3223, 0.007026641191671734), (3224, 0.018389546668662618), (3225, 0.010194955927223899), (3226, 0.008203590011035615), (3227, 0.014246810793647844), (3228, 0.007324261709397631), (3229, 0.019765614547502895), (3230, 0.01814427730706358), (3231, 0.01185423443481243), (3232, 0.0), (3233, 0.021284030290088136), (3234, 0.0), (3235, 0.01489336737486088), (3236, 0.007690415230226235), (3237, 0.007626267651649908), (3238, 0.04013928185841613), (3239, 0.0), (3240, 0.0), (3241, 0.0), (3242, 0.0), (3243, 0.008121453588120406), (3244, 0.008238614170836944), (3245, 0.02390594716241489), (3246, 0.0), (3247, 0.007383722862346218), (3248, 0.0), (3249, 0.006400618266980724), (3250, 0.01442594999346872), (3251, 0.02215850335160365), (3252, 0.0), (3253, 0.0072518304360997135), (3254, 0.0), (3255, 0.0), (3256, 0.0), (3257, 0.0), (3258, 0.008160767410996403), (3259, 0.005626282714368613), (3260, 0.006319982307003325), (3261, 0.014849918913799436), (3262, 0.031900266449920396), (3263, 0.0), (3264, 0.00808108598470981), (3265, 0.0), (3266, 0.0), (3267, 0.00807663532608688), (3268, 0.0), (3269, 0.008091275755658567), (3270, 0.02079870912818677), (3271, 0.03794673305420058), (3272, 0.0), (3273, 0.0), (3274, 0.005251393481630877), (3275, 0.0), (3276, 0.0), (3277, 0.04924430688588714), (3278, 0.0), (3279, 0.02121307976044074), (3280, 0.00816153209661969), (3281, 0.0), (3282, 0.008344440627672372), (3283, 0.007255027099613785), (3284, 0.037099430562904295), (3285, 0.008907046236998714), (3286, 0.0), (3287, 0.017624692331699426), (3288, 0.007508349774795219), (3289, 0.008405933794435936), (3290, 0.030552663428662575), (3291, 0.0), (3292, 0.0), (3293, 0.04390986765641703), (3294, 0.007950406887067446), (3295, 0.0), (3296, 0.0), (3297, 0.03967725908514631), (3298, 0.0), (3299, 0.023265072151046718), (3300, 0.00808261445642017), (3301, 0.05656544929168168), (3302, 0.0), (3303, 0.0), (3304, 0.025397904821188887), (3305, 0.013101289847913408), (3306, 0.0071438309286251086), (3307, 0.0), (3308, 0.0), (3309, 0.005547544928286538), (3310, 0.0), (3311, 0.017127642595340314), (3312, 0.0), (3313, 0.007182346971373702), (3314, 0.0343801559076418), (3315, 0.01116759118137476), (3316, 0.02519650105452601), (3317, 0.04030403505862011), (3318, 0.014673353879369069), (3319, 0.00836211265424108), (3320, 0.018672642570343803), (3321, 0.0), (3322, 0.0), (3323, 0.006566673663261707), (3324, 0.0), (3325, 0.0), (3326, 0.006851636604005235), (3327, 0.006216317170173588), (3328, 0.0), (3329, 0.009044034302177987), (3330, 0.015462728269940145), (3331, 0.0), (3332, 0.00696082634029115), (3333, 0.0), (3334, 0.04079699446609081), (3335, 0.025691794512840635), (3336, 0.04160700837311104), (3337, 0.012746648139242424), (3338, 0.007204200699266205), (3339, 0.034259172083756236), (3340, 0.009289569562978328), (3341, 0.0), (3342, 0.023872413495789842), (3343, 0.04100020111675483), (3344, 0.0), (3345, 0.007417603973671149), (3346, 0.0), (3347, 0.016431694436348326), (3348, 0.023468062672142655), (3349, 0.05268625295171668), (3350, 0.018705505103433714), (3351, 0.02504511116623869), (3352, 0.015308081982688324), (3353, 0.007879737951526482), (3354, 0.01584680316873749), (3355, 0.0), (3356, 0.007592579298407945), (3357, 0.0), (3358, 0.0), (3359, 0.008835894283248602), (3360, 0.0), (3361, 0.0067984975604088735), (3362, 0.0), (3363, 0.0), (3364, 0.008688212207325853), (3365, 0.007347822945286304), (3366, 0.008865204999309031), (3367, 0.0), (3368, 0.007982898893423046), (3369, 0.006124670306698219), (3370, 0.026843436830197756), (3371, 0.020287178233168515), (3372, 0.006037414387154815), (3373, 0.018288616387309775), (3374, 0.007045602205527143), (3375, 0.0), (3376, 0.008077812067094), (3377, 0.03529665197359928), (3378, 0.016419883617337636), (3379, 0.0), (3380, 0.0), (3381, 0.012791764847447294), (3382, 0.006157085115393476), (3383, 0.0), (3384, 0.008581989554651979), (3385, 0.015582659851115403), (3386, 0.0), (3387, 0.0), (3388, 0.0), (3389, 0.0), (3390, 0.0), (3391, 0.0), (3392, 0.0110779877862424), (3393, 0.0319230477373716), (3394, 0.00841567745845035), (3395, 0.016724177232686894), (3396, 0.0), (3397, 0.0), (3398, 0.0), (3399, 0.005173503080865313), (3400, 0.0), (3401, 0.0), (3402, 0.0), (3403, 0.03773930428494775), (3404, 0.0074973378259218125), (3405, 0.007033751999686833), (3406, 0.01890332705808427), (3407, 0.0), (3408, 0.008147777563436424), (3409, 0.0), (3410, 0.024130573864227425), (3411, 0.0), (3412, 0.006909758016237864), (3413, 0.0), (3414, 0.0), (3415, 0.007234155053803205), (3416, 0.005633492951713911), (3417, 0.004744510124060788), (3418, 0.0), (3419, 0.007827058070517454), (3420, 0.0), (3421, 0.0), (3422, 0.008722825653344495), (3423, 0.02549567538771507), (3424, 0.027811330460061172), (3425, 0.0), (3426, 0.02959419678364064), (3427, 0.04217151027166115), (3428, 0.0), (3429, 0.0), (3430, 0.013742194751586771), (3431, 0.0), (3432, 0.0), (3433, 0.0), (3434, 0.00787029023745732), (3435, 0.0), (3436, 0.01763253246067645), (3437, 0.019449606599634246), (3438, 0.014346571683091234), (3439, 0.03820809736802404), (3440, 0.006154685424766224), (3441, 0.0), (3442, 0.012018387568091307), (3443, 0.021088458472007392), (3444, 0.007576440538850532), (3445, 0.03347337556714938), (3446, 0.0), (3447, 0.0327023230020626), (3448, 0.0), (3449, 0.0), (3450, 0.014451207761397982), (3451, 0.0), (3452, 0.008658550777983018), (3453, 0.009257052855408414), (3454, 0.0), (3455, 0.0), (3456, 0.007668973221876716), (3457, 0.00807744891882417), (3458, 0.0), (3459, 0.0), (3460, 0.005029092373381942), (3461, 0.0), (3462, 0.014893119862133743), (3463, 0.03452514509687115), (3464, 0.0), (3465, 0.007992316597057018), (3466, 0.006657973894868896), (3467, 0.0), (3468, 0.01391371424425673), (3469, 0.0), (3470, 0.0), (3471, 0.0), (3472, 0.00764338666227217), (3473, 0.02508484738219254), (3474, 0.022193503440533408), (3475, 0.0), (3476, 0.0), (3477, 0.005388421756471844), (3478, 0.0), (3479, 0.020160574559004753), (3480, 0.0), (3481, 0.005564708309045204), (3482, 0.02175400629082025), (3483, 0.0), (3484, 0.0), (3485, 0.0070119236373583195), (3486, 0.0), (3487, 0.023950900695219365), (3488, 0.0), (3489, 0.04909017967305176), (3490, 0.006635372163438161), (3491, 0.06042494942032325), (3492, 0.020395197625421517), (3493, 0.03764429828074977), (3494, 0.014692426095761435), (3495, 0.0), (3496, 0.0), (3497, 0.0), (3498, 0.018332175735765087), (3499, 0.007437055229569523), (3500, 0.029584216665246424), (3501, 0.01748172507504663), (3502, 0.0), (3503, 0.0), (3504, 0.0), (3505, 0.005211265367456596), (3506, 0.0), (3507, 0.0), (3508, 0.0), (3509, 0.03758125607879607), (3510, 0.010164483559829945), (3511, 0.011111950272382305), (3512, 0.006065783640693787), (3513, 0.027063815203350133), (3514, 0.01492929094793516), (3515, 0.0), (3516, 0.01995301996620316), (3517, 0.03026029926118168), (3518, 0.00576227385104001), (3519, 0.0), (3520, 0.02685022860782873), (3521, 0.01733342474979239), (3522, 0.043354751115389424), (3523, 0.006643620209148531), (3524, 0.0), (3525, 0.0), (3526, 0.016915283623505462), (3527, 0.012551513350836149), (3528, 0.007626798669766866), (3529, 0.0), (3530, 0.00671770970169346), (3531, 0.0), (3532, 0.0), (3533, 0.03518460705951171), (3534, 0.0), (3535, 0.014300471545365158), (3536, 0.02544152686109758), (3537, 0.0773776256374108), (3538, 0.0), (3539, 0.013539039031616724), (3540, 0.0), (3541, 0.0), (3542, 0.0), (3543, 0.0), (3544, 0.0), (3545, 0.006484896791892843), (3546, 0.013543302048172582), (3547, 0.0), (3548, 0.0), (3549, 0.0), (3550, 0.0), (3551, 0.0), (3552, 0.006516755210059328), (3553, 0.0046791174566463), (3554, 0.013910210918094315), (3555, 0.0), (3556, 0.0), (3557, 0.0), (3558, 0.0), (3559, 0.0), (3560, 0.0), (3561, 0.0), (3562, 0.0), (3563, 0.0), (3564, 0.0), (3565, 0.0), (3566, 0.0), (3567, 0.0), (3568, 0.036849810048563), (3569, 0.0), (3570, 0.014591198660377933), (3571, 0.017378857747835774), (3572, 0.0), (3573, 0.0), (3574, 0.011986342221795726), (3575, 0.04907367701090219), (3576, 0.0), (3577, 0.013797843383441002), (3578, 0.021093790931332974), (3579, 0.011385897721323134), (3580, 0.0), (3581, 0.0), (3582, 0.042613332523553905), (3583, 0.016285511752177496), (3584, 0.03360282714280953), (3585, 0.02578915169941392), (3586, 0.0), (3587, 0.0), (3588, 0.0), (3589, 0.03141410109631009), (3590, 0.015930394592683642), (3591, 0.00588669946410445), (3592, 0.0), (3593, 0.0074245463724444604), (3594, 0.011606653663192402), (3595, 0.014538152704634821), (3596, 0.0026479887395390108), (3597, 0.023230783187675852), (3598, 0.0), (3599, 0.006852874306804246), (3600, 0.0), (3601, 0.0), (3602, 0.0), (3603, 0.01198625984543041), (3604, 0.0), (3605, 0.01772006697218728), (3606, 0.00617375915063685), (3607, 0.03104091743012804), (3608, 0.023408389846499563), (3609, 0.0076959682644491), (3610, 0.010472550568384304), (3611, 0.0072325589257962375), (3612, 0.0075722242539882235), (3613, 0.0), (3614, 0.026916460637564477), (3615, 0.0), (3616, 0.032366038745086305), (3617, 0.01350037671573563), (3618, 0.017096039626330863), (3619, 0.0), (3620, 0.0), (3621, 0.0), (3622, 0.013128092670798782), (3623, 0.007253069828686473), (3624, 0.0), (3625, 0.0), (3626, 0.0), (3627, 0.0), (3628, 0.016089080703720022), (3629, 0.0), (3630, 0.0), (3631, 0.022132386298555056), (3632, 0.02921913019131465), (3633, 0.007983471317689889), (3634, 0.0), (3635, 0.060478257701658475), (3636, 0.014792498977340324), (3637, 0.0), (3638, 0.0), (3639, 0.0), (3640, 0.0), (3641, 0.025884685420431118), (3642, 0.012901166689138545), (3643, 0.0), (3644, 0.0), (3645, 0.01333292161300833), (3646, 0.0), (3647, 0.0), (3648, 0.0), (3649, 0.008744939072100005), (3650, 0.024683847842223713), (3651, 0.023983862816100786), (3652, 0.0), (3653, 0.0), (3654, 0.026005973287186072), (3655, 0.027090807185857976), (3656, 0.0), (3657, 0.0), (3658, 0.02891509483182325), (3659, 0.0), (3660, 0.01674225486002939), (3661, 0.0), (3662, 0.0), (3663, 0.0), (3664, 0.020224886263601846), (3665, 0.0), (3666, 0.01721824210950626), (3667, 0.019780569254265044), (3668, 0.019241129659003015), (3669, 0.018866442196090415), (3670, 0.0), (3671, 0.0), (3672, 0.006433162458610101), (3673, 0.0), (3674, 0.0), (3675, 0.0), (3676, 0.0), (3677, 0.0), (3678, 0.0), (3679, 0.0), (3680, 0.01202394627070466), (3681, 0.0), (3682, 0.0), (3683, 0.0), (3684, 0.012116283124128333), (3685, 0.0), (3686, 0.008450035384990744), (3687, 0.03681558625135832), (3688, 0.0), (3689, 0.006555727932313057), (3690, 0.007029035323604993), (3691, 0.0), (3692, 0.0), (3693, 0.0), (3694, 0.0), (3695, 0.014677296472331632), (3696, 0.01923856600082265), (3697, 0.030829719331828584), (3698, 0.027026926431643165), (3699, 0.0), (3700, 0.007289932688390029), (3701, 0.0), (3702, 0.008546805272809667), (3703, 0.006420527803419327), (3704, 0.015224881649977495), (3705, 0.0), (3706, 0.0), (3707, 0.006273456826764552), (3708, 0.01596344075060214), (3709, 0.014838069915892364), (3710, 0.020146314934467557), (3711, 0.0), (3712, 0.0), (3713, 0.0), (3714, 0.008410500029707179), (3715, 0.013664992242971144), (3716, 0.0), (3717, 0.0), (3718, 0.0), (3719, 0.0), (3720, 0.0), (3721, 0.0), (3722, 0.019551508104314448), (3723, 0.0), (3724, 0.015651465564553657), (3725, 0.00654916140272524), (3726, 0.040489979583213015), (3727, 0.0), (3728, 0.04701771771898868), (3729, 0.0), (3730, 0.0), (3731, 0.0), (3732, 0.027761112136249343), (3733, 0.028596242094004735), (3734, 0.007706562100528071), (3735, 0.0), (3736, 0.0), (3737, 0.0), (3738, 0.0), (3739, 0.034015787899496566), (3740, 0.013747505011061329), (3741, 0.006916959071960027), (3742, 0.0), (3743, 0.008195464755735352), (3744, 0.0), (3745, 0.008936776184601479), (3746, 0.0), (3747, 0.0), (3748, 0.0), (3749, 0.023378553353590664), (3750, 0.045867310805549594), (3751, 0.0), (3752, 0.0), (3753, 0.0), (3754, 0.0), (3755, 0.027804695146750588), (3756, 0.041598082592523324), (3757, 0.021543627998516522), (3758, 0.012273278812373552), (3759, 0.0), (3760, 0.014986408043805554), (3761, 0.0), (3762, 0.0), (3763, 0.044383867278805805), (3764, 0.004986814658530289), (3765, 0.0), (3766, 0.0), (3767, 0.021198172643388875), (3768, 0.0), (3769, 0.0), (3770, 0.0), (3771, 0.0077972134302994964), (3772, 0.0068200843817834015), (3773, 0.0), (3774, 0.007211862188836209), (3775, 0.01373355148451501), (3776, 0.0), (3777, 0.04491149424613574), (3778, 0.00797051875975925), (3779, 0.0), (3780, 0.0), (3781, 0.0), (3782, 0.0), (3783, 0.0), (3784, 0.02959986464532737), (3785, 0.0), (3786, 0.0), (3787, 0.0), (3788, 0.0), (3789, 0.01707813191481186), (3790, 0.0), (3791, 0.03621860677512196), (3792, 0.017359380292950564), (3793, 0.01071320948145796), (3794, 0.0), (3795, 0.006749556553584948), (3796, 0.0), (3797, 0.023650884827513374), (3798, 0.029112837099798502), (3799, 0.014941358692284789), (3800, 0.0), (3801, 0.0), (3802, 0.01736180281490452), (3803, 0.008370318217499553), (3804, 0.0382282716243577), (3805, 0.008804254679212925), (3806, 0.0), (3807, 0.0), (3808, 0.0), (3809, 0.0097844740396121), (3810, 0.030636097321279747), (3811, 0.032884806508432056), (3812, 0.0), (3813, 0.015269382093336002), (3814, 0.0), (3815, 0.01429660762025465), (3816, 0.014857127253608417), (3817, 0.0), (3818, 0.0), (3819, 0.03634096806186968), (3820, 0.016010663368285556), (3821, 0.07575193073975123), (3822, 0.02883453707785681), (3823, 0.0), (3824, 0.0), (3825, 0.0), (3826, 0.015419427996964365), (3827, 0.0), (3828, 0.006107090905765627), (3829, 0.047888103155087874), (3830, 0.026067302033210643), (3831, 0.022573878084893154), (3832, 0.0), (3833, 0.021758266873109746), (3834, 0.0), (3835, 0.02279336548805721), (3836, 0.007060941392177984), (3837, 0.006875079042517301), (3838, 0.0), (3839, 0.0072280224562871085), (3840, 0.0), (3841, 0.0), (3842, 0.006504944560505602), (3843, 0.0), (3844, 0.0), (3845, 0.007131245989377269), (3846, 0.007201552986908737), (3847, 0.0), (3848, 0.005976843829010563), (3849, 0.006671570483970085), (3850, 0.0), (3851, 0.005758362479196006), (3852, 0.040784956498660804), (3853, 0.0), (3854, 0.005387726316919367), (3855, 0.0), (3856, 0.015001052015438655), (3857, 0.11080914823552535), (3858, 0.015032260669569237), (3859, 0.0), (3860, 0.0), (3861, 0.0), (3862, 0.01569664545047377), (3863, 0.011510709367913903), (3864, 0.02577897872488995), (3865, 0.0), (3866, 0.018213857138574305), (3867, 0.0), (3868, 0.0), (3869, 0.013720165680016381), (3870, 0.0), (3871, 0.0), (3872, 0.007081540663672984), (3873, 0.0062719348960735884), (3874, 0.02147639445019156), (3875, 0.00932779457571895), (3876, 0.0), (3877, 0.0), (3878, 0.020306629016199104), (3879, 0.006519323790967992), (3880, 0.0), (3881, 0.007622214291588302), (3882, 0.02682527040093647), (3883, 0.0), (3884, 0.011547535823804734), (3885, 0.0), (3886, 0.012410278906166498), (3887, 0.0), (3888, 0.0), (3889, 0.02072677030188312), (3890, 0.007423485872997252), (3891, 0.0), (3892, 0.0), (3893, 0.0), (3894, 0.023107010764716007), (3895, 0.01179880005352167), (3896, 0.012079506083435564), (3897, 0.0), (3898, 0.021647142084036237), (3899, 0.01491128228573316), (3900, 0.0), (3901, 0.014980540514347766), (3902, 0.01729326765936065), (3903, 0.02960797256448617), (3904, 0.0), (3905, 0.0), (3906, 0.005292126126377303), (3907, 0.0), (3908, 0.01566928165328115), (3909, 0.0), (3910, 0.00693731397514837), (3911, 0.009331578127539781), (3912, 0.007832462340073303), (3913, 0.0), (3914, 0.016043487642373698), (3915, 0.008327038040783316), (3916, 0.0), (3917, 0.009001767057677473), (3918, 0.006799149418450949), (3919, 0.01815991329967895), (3920, 0.018306926659872227), (3921, 0.0), (3922, 0.02935543026647221), (3923, 0.007268812926027451), (3924, 0.0), (3925, 0.05816457250188037), (3926, 0.027836898004619075), (3927, 0.0), (3928, 0.0), (3929, 0.0), (3930, 0.0), (3931, 0.007038961935110834), (3932, 0.0), (3933, 0.0), (3934, 0.02609043738479259), (3935, 0.0), (3936, 0.026185694815420938), (3937, 0.0), (3938, 0.0), (3939, 0.0), (3940, 0.004658618030352602), (3941, 0.006676368124581633), (3942, 0.047323878106147035), (3943, 0.007537787100516221), (3944, 0.0), (3945, 0.022503923459391766), (3946, 0.0), (3947, 0.006557078871870841), (3948, 0.0), (3949, 0.007345496752123892), (3950, 0.0), (3951, 0.0), (3952, 0.0), (3953, 0.050692068896845285), (3954, 0.0), (3955, 0.018735765762174426), (3956, 0.0), (3957, 0.0080761006874176), (3958, 0.0), (3959, 0.0), (3960, 0.019050806101345737), (3961, 0.05008854754724797), (3962, 0.006404961384403469), (3963, 0.016179481812330646), (3964, 0.0), (3965, 0.006317744506332969), (3966, 0.0049887308055081335), (3967, 0.0), (3968, 0.022015230806260253), (3969, 0.01625435410478439), (3970, 0.0), (3971, 0.0), (3972, 0.0353443525620908), (3973, 0.007284218732451675), (3974, 0.0), (3975, 0.0), (3976, 0.006705062725214004), (3977, 0.012320094542691118), (3978, 0.027889637721179545), (3979, 0.0), (3980, 0.0), (3981, 0.008060024372613352), (3982, 0.01885308576427118), (3983, 0.0), (3984, 0.007743136529265335), (3985, 0.016695410428603216), (3986, 0.007187266240576332), (3987, 0.05099394477125618), (3988, 0.007096209713552491), (3989, 0.006565044550341811), (3990, 0.0), (3991, 0.006158842993146375), (3992, 0.0), (3993, 0.016063891136538718), (3994, 0.024024992783374652), (3995, 0.0), (3996, 0.021629703757114028), (3997, 0.0), (3998, 0.03277653762729522), (3999, 0.0), (4000, 0.03603765954055021), (4001, 0.0), (4002, 0.0), (4003, 0.0), (4004, 0.01594801387741792), (4005, 0.0), (4006, 0.0076299312965755015), (4007, 0.0), (4008, 0.0), (4009, 0.0), (4010, 0.0), (4011, 0.0), (4012, 0.006022099765052645), (4013, 0.020672690371500643), (4014, 0.017000041219905983), (4015, 0.020665080798044043), (4016, 0.007483780532515288), (4017, 0.014430357415403746), (4018, 0.0), (4019, 0.008593445566859504), (4020, 0.0074160641239350445), (4021, 0.0), (4022, 0.012650871571623477), (4023, 0.008233357716665756), (4024, 0.017846224485899995), (4025, 0.0), (4026, 0.0), (4027, 0.0), (4028, 0.0), (4029, 0.0), (4030, 0.021532777328432503), (4031, 0.0), (4032, 0.0), (4033, 0.021399378101787048), (4034, 0.0), (4035, 0.0), (4036, 0.0), (4037, 0.0), (4038, 0.0), (4039, 0.008153817635727464), (4040, 0.0), (4041, 0.0), (4042, 0.014334654253202834), (4043, 0.0), (4044, 0.0), (4045, 0.0), (4046, 0.00749058820566058), (4047, 0.0), (4048, 0.020995946411051923), (4049, 0.007019223935294754), (4050, 0.0), (4051, 0.0), (4052, 0.015141645437589448), (4053, 0.0), (4054, 0.0), (4055, 0.03224970851104429), (4056, 0.038981204361400776), (4057, 0.0), (4058, 0.0), (4059, 0.0076257681700453266), (4060, 0.02272862166442738), (4061, 0.006851288147637662), (4062, 0.02101988723157018), (4063, 0.0), (4064, 0.0), (4065, 0.0), (4066, 0.0), (4067, 0.0), (4068, 0.0), (4069, 0.0), (4070, 0.021565330195289577), (4071, 0.012215523894674491), (4072, 0.006743969097998189), (4073, 0.02919255470454802), (4074, 0.0), (4075, 0.0), (4076, 0.014091229362982497), (4077, 0.012973834163518907), (4078, 0.004860514271432978), (4079, 0.0), (4080, 0.0), (4081, 0.0), (4082, 0.0), (4083, 0.013598277462898338), (4084, 0.011754691624028837), (4085, 0.00707148574007671), (4086, 0.0), (4087, 0.06613278956428001), (4088, 0.006695554343519621), (4089, 0.0), (4090, 0.0), (4091, 0.00881679982372715), (4092, 0.0), (4093, 0.015592918041719741), (4094, 0.008033508442055632), (4095, 0.0), (4096, 0.018377990162431232), (4097, 0.008923340788577525), (4098, 0.0), (4099, 0.006029928195646568), (4100, 0.07256628646255942), (4101, 0.009063121908514764), (4102, 0.0), (4103, 0.022001741205005605), (4104, 0.0), (4105, 0.0), (4106, 0.0), (4107, 0.006498740891644515), (4108, 0.0), (4109, 0.01603561517496447), (4110, 0.021421409239472746), (4111, 0.007506402346143286), (4112, 0.0), (4113, 0.0), (4114, 0.005823174334995727), (4115, 0.0), (4116, 0.0), (4117, 0.015617684697543238), (4118, 0.0), (4119, 0.038519233820052436), (4120, 0.0), (4121, 0.009285884329272591), (4122, 0.025878746485636223), (4123, 0.0), (4124, 0.035943849330088214), (4125, 0.025678653549318496), (4126, 0.00782921139008527), (4127, 0.0), (4128, 0.05068934766083189), (4129, 0.03527744765597767), (4130, 0.0), (4131, 0.0), (4132, 0.012357705695237508), (4133, 0.0), (4134, 0.025185846207783337), (4135, 0.005744091693483551), (4136, 0.0), (4137, 0.0), (4138, 0.0), (4139, 0.0), (4140, 0.0), (4141, 0.0), (4142, 0.0), (4143, 0.01688302320548705), (4144, 0.0), (4145, 0.0), (4146, 0.06465155812962237), (4147, 0.017572479481957334), (4148, 0.0), (4149, 0.01422493733565355), (4150, 0.06265248676985541), (4151, 0.014643380859584432), (4152, 0.05779842624039128), (4153, 0.0), (4154, 0.0), (4155, 0.04406715115600775), (4156, 0.0), (4157, 0.0), (4158, 0.038158874114284175), (4159, 0.0), (4160, 0.018242303290553073), (4161, 0.030039103610220105), (4162, 0.0), (4163, 0.00740348179663692), (4164, 0.03143310588871999), (4165, 0.0), (4166, 0.0), (4167, 0.024776823718793972), (4168, 0.0), (4169, 0.0), (4170, 0.0), (4171, 0.0), (4172, 0.0), (4173, 0.0), (4174, 0.005797433134768659), (4175, 0.0), (4176, 0.004578703707384392), (4177, 0.0), (4178, 0.0), (4179, 0.008409746630603532), (4180, 0.015568378147909897), (4181, 0.024088016303122746), (4182, 0.006381851518799765), (4183, 0.0), (4184, 0.0), (4185, 0.0), (4186, 0.0), (4187, 0.007192824609478086), (4188, 0.05532536576779486), (4189, 0.005167867703354774), (4190, 0.01896733681102161), (4191, 0.007432326673661186), (4192, 0.021942425158743794), (4193, 0.005106727398620295), (4194, 0.0), (4195, 0.0), (4196, 0.0), (4197, 0.00730310158983049), (4198, 0.00862543934028123), (4199, 0.01025286852664465), (4200, 0.018928898545743564), (4201, 0.0062082387308615445), (4202, 0.0), (4203, 0.013524208923321755), (4204, 0.0), (4205, 0.0), (4206, 0.005917749085554571), (4207, 0.0), (4208, 0.008148194039114496), (4209, 0.0), (4210, 0.008472653584427958), (4211, 0.019856518295309107), (4212, 0.0), (4213, 0.0), (4214, 0.0), (4215, 0.005299586342027877), (4216, 0.0186933104202842), (4217, 0.0), (4218, 0.0), (4219, 0.0), (4220, 0.005512924929717106), (4221, 0.0), (4222, 0.0), (4223, 0.006144418671284267), (4224, 0.013165292775405459), (4225, 0.03431174616432402), (4226, 0.0), (4227, 0.0), (4228, 0.014981059054595543), (4229, 0.007386876985457249), (4230, 0.0066920550392928005), (4231, 0.0), (4232, 0.03217495942580778), (4233, 0.02422356341238828), (4234, 0.0), (4235, 0.008587369075186702), (4236, 0.0), (4237, 0.0), (4238, 0.0), (4239, 0.0), (4240, 0.0), (4241, 0.0), (4242, 0.0), (4243, 0.00960383410654094), (4244, 0.07280531601224707), (4245, 0.0), (4246, 0.013094371500772368), (4247, 0.014670734900247296), (4248, 0.0), (4249, 0.013786931411272548), (4250, 0.0), (4251, 0.008760979347057784), (4252, 0.025381718334814153), (4253, 0.0), (4254, 0.020332861032285387), (4255, 0.018261407846188855), (4256, 0.008439570006476969), (4257, 0.0), (4258, 0.007489285156738514), (4259, 0.0), (4260, 0.0), (4261, 0.009428829350439417), (4262, 0.010607400605010461), (4263, 0.011084470889455541), (4264, 0.013360673351650454), (4265, 0.0), (4266, 0.045141112663488726), (4267, 0.007564987451747344), (4268, 0.14816778494206667), (4269, 0.04443309879833104), (4270, 0.0), (4271, 0.0), (4272, 0.0), (4273, 0.0), (4274, 0.0), (4275, 0.0060187141973897474), (4276, 0.03633654137121278), (4277, 0.04403369416224963), (4278, 0.007409839797100053), (4279, 0.0), (4280, 0.009211762278689608), (4281, 0.0), (4282, 0.0), (4283, 0.0), (4284, 0.0), (4285, 0.0), (4286, 0.007340703441669519), (4287, 0.0), (4288, 0.0), (4289, 0.00916461473319906), (4290, 0.014479629242356877), (4291, 0.012683646567247435), (4292, 0.01614169372316679), (4293, 0.0), (4294, 0.0), (4295, 0.004971446296440739), (4296, 0.010492319724590648), (4297, 0.0), (4298, 0.0), (4299, 0.015676590520757205), (4300, 0.0), (4301, 0.0), (4302, 0.022361756407656183), (4303, 0.0), (4304, 0.0), (4305, 0.0), (4306, 0.0), (4307, 0.06038560783074197), (4308, 0.0071927092434972105), (4309, 0.0), (4310, 0.00811777656805167), (4311, 0.0), (4312, 0.042054009390434195), (4313, 0.0), (4314, 0.0), (4315, 0.012920052947703405), (4316, 0.012970909482695903), (4317, 0.0), (4318, 0.0), (4319, 0.0), (4320, 0.0), (4321, 0.0), (4322, 0.0), (4323, 0.0), (4324, 0.0), (4325, 0.0), (4326, 0.004814323133102494), (4327, 0.005719358551705217), (4328, 0.0), (4329, 0.02089216593805089), (4330, 0.0), (4331, 0.0064342448505609355), (4332, 0.007042246459707119), (4333, 0.026937530990384224), (4334, 0.0), (4335, 0.025715143109787154), (4336, 0.0), (4337, 0.0), (4338, 0.0), (4339, 0.013716125555582635), (4340, 0.019642706813989656), (4341, 0.0), (4342, 0.0), (4343, 0.0), (4344, 0.01231250776741618), (4345, 0.00799789856641438), (4346, 0.0), (4347, 0.0), (4348, 0.0), (4349, 0.01441811810077519), (4350, 0.0), (4351, 0.062289598824121446), (4352, 0.0), (4353, 0.013086748293632884), (4354, 0.008499706940461118), (4355, 0.007860743523986222), (4356, 0.0), (4357, 0.023121844126252376), (4358, 0.04247131008287111), (4359, 0.0), (4360, 0.0), (4361, 0.028274044310541094), (4362, 0.0), (4363, 0.0), (4364, 0.016870471287964706), (4365, 0.007511607146706629), (4366, 0.0), (4367, 0.00816073653076621), (4368, 0.0), (4369, 0.0), (4370, 0.0), (4371, 0.006994546656873292), (4372, 0.02618234718525747), (4373, 0.02348735588438576), (4374, 0.0), (4375, 0.0), (4376, 0.013759428994782427), (4377, 0.0), (4378, 0.006347749744015865), (4379, 0.0), (4380, 0.07440329592348685), (4381, 0.0), (4382, 0.01736206867145241), (4383, 0.013320128012172595), (4384, 0.0), (4385, 0.0), (4386, 0.008772210014544405), (4387, 0.020630279139225778), (4388, 0.023353064794483215), (4389, 0.0), (4390, 0.0), (4391, 0.0), (4392, 0.060639188359670054), (4393, 0.030003469649910824), (4394, 0.010196661647065992), (4395, 0.025581803845378823), (4396, 0.009584066181258854), (4397, 0.006798161226924286), (4398, 0.0), (4399, 0.0), (4400, 0.0), (4401, 0.03610937324414066), (4402, 0.027175473741627747), (4403, 0.0), (4404, 0.0), (4405, 0.0), (4406, 0.008078275073799138), (4407, 0.012362382571431045), (4408, 0.00798727577731346), (4409, 0.00978699792744239), (4410, 0.0), (4411, 0.0), (4412, 0.0), (4413, 0.018036236261676025), (4414, 0.0), (4415, 0.0), (4416, 0.009036289947241016), (4417, 0.008718018331805617), (4418, 0.05341890695584653), (4419, 0.0), (4420, 0.022311902660430896), (4421, 0.0), (4422, 0.0), (4423, 0.0), (4424, 0.0), (4425, 0.027946695156560074), (4426, 0.031881037289964415), (4427, 0.007180869972829152), (4428, 0.0), (4429, 0.0), (4430, 0.010613520941537578), (4431, 0.0), (4432, 0.0), (4433, 0.024857626079855765), (4434, 0.0), (4435, 0.028652027180618975), (4436, 0.0), (4437, 0.0), (4438, 0.0), (4439, 0.0), (4440, 0.0), (4441, 0.0), (4442, 0.022925421525359774), (4443, 0.0407249344044044), (4444, 0.0), (4445, 0.0), (4446, 0.0), (4447, 0.007972617373952965), (4448, 0.014694092935006182), (4449, 0.018775415301777273), (4450, 0.03734714633110114), (4451, 0.0), (4452, 0.0), (4453, 0.0), (4454, 0.0), (4455, 0.00879229623001716), (4456, 0.008359976391117505), (4457, 0.007730655441045537), (4458, 0.0), (4459, 0.0), (4460, 0.0070346180477376275), (4461, 0.0), (4462, 0.0), (4463, 0.0), (4464, 0.0), (4465, 0.0333285303001761), (4466, 0.0), (4467, 0.016477457249498426), (4468, 0.0), (4469, 0.0), (4470, 0.00825201561396622), (4471, 0.0), (4472, 0.0), (4473, 0.0), (4474, 0.0), (4475, 0.0), (4476, 0.0), (4477, 0.022403870287308985), (4478, 0.0), (4479, 0.0), (4480, 0.030480520152464177), (4481, 0.029466981490647796), (4482, 0.06574907892658108), (4483, 0.0), (4484, 0.024543701154815994), (4485, 0.0), (4486, 0.0), (4487, 0.027845474152678705), (4488, 0.0), (4489, 0.0), (4490, 0.0), (4491, 0.0), (4492, 0.0), (4493, 0.0), (4494, 0.0), (4495, 0.006347008065843522), (4496, 0.0), (4497, 0.015504079907371092), (4498, 0.0), (4499, 0.020654737001640486), (4500, 0.0), (4501, 0.03679660317363069), (4502, 0.0), (4503, 0.0), (4504, 0.0), (4505, 0.0), (4506, 0.0), (4507, 0.01817857391580686), (4508, 0.0), (4509, 0.013650533424413927), (4510, 0.0), (4511, 0.0), (4512, 0.0), (4513, 0.017445578998659943), (4514, 0.0), (4515, 0.0), (4516, 0.0), (4517, 0.0), (4518, 0.0), (4519, 0.026162875887841264), (4520, 0.0), (4521, 0.0), (4522, 0.007896662776084449), (4523, 0.0), (4524, 0.01666325815424108), (4525, 0.008046477035679804), (4526, 0.0), (4527, 0.007484828884679218), (4528, 0.0), (4529, 0.007533421500968597), (4530, 0.00842347756718419), (4531, 0.0), (4532, 0.03893092575857469), (4533, 0.0077252814582572035), (4534, 0.0), (4535, 0.00485844333381231), (4536, 0.0), (4537, 0.007347312371579172), (4538, 0.0), (4539, 0.0), (4540, 0.06872780621987747), (4541, 0.0), (4542, 0.0), (4543, 0.10550105991133304), (4544, 0.0), (4545, 0.0), (4546, 0.007028667384238602), (4547, 0.0), (4548, 0.0), (4549, 0.006498292283335068), (4550, 0.0), (4551, 0.006986511135589086), (4552, 0.0), (4553, 0.0), (4554, 0.007329669727232512), (4555, 0.0), (4556, 0.0), (4557, 0.015705926568743936), (4558, 0.01398847444162875), (4559, 0.04901209172614886), (4560, 0.020739023731471563), (4561, 0.0), (4562, 0.0), (4563, 0.0270527641257529), (4564, 0.0), (4565, 0.06438849212868034), (4566, 0.0), (4567, 0.02857206995283568), (4568, 0.05091984814823904), (4569, 0.0), (4570, 0.007857198664267102), (4571, 0.0), (4572, 0.0), (4573, 0.0071568042416572), (4574, 0.0), (4575, 0.0), (4576, 0.0), (4577, 0.0), (4578, 0.0), (4579, 0.0058641118891130176), (4580, 0.0), (4581, 0.0), (4582, 0.04665149870366124), (4583, 0.0), (4584, 0.0), (4585, 0.0), (4586, 0.008580607713227937), (4587, 0.04254576873296033), (4588, 0.008260821984793698), (4589, 0.0), (4590, 0.0), (4591, 0.0), (4592, 0.0), (4593, 0.01265259715176567), (4594, 0.005793733338691876), (4595, 0.0), (4596, 0.0), (4597, 0.02449419754641064), (4598, 0.0), (4599, 0.032531433564496656), (4600, 0.0), (4601, 0.0), (4602, 0.0), (4603, 0.04159283666199018), (4604, 0.0075820554934061994), (4605, 0.0), (4606, 0.0), (4607, 0.0), (4608, 0.0), (4609, 0.0), (4610, 0.0), (4611, 0.0), (4612, 0.0), (4613, 0.0), (4614, 0.0), (4615, 0.015984013832779545), (4616, 0.0), (4617, 0.0), (4618, 0.0), (4619, 0.0), (4620, 0.016610029110756673), (4621, 0.0067620412484470805), (4622, 0.0), (4623, 0.023234626625305024), (4624, 0.04121338284111292), (4625, 0.01607863954337855), (4626, 0.005790724780730082), (4627, 0.02402273006885814), (4628, 0.0), (4629, 0.0), (4630, 0.014573083876661353), (4631, 0.04294518703563597), (4632, 0.027192490790677447), (4633, 0.0), (4634, 0.020003927602711743), (4635, 0.030793920219168366), (4636, 0.015470040076184206), (4637, 0.006941330012751623), (4638, 0.012658014635621303), (4639, 0.0), (4640, 0.04085792695475957), (4641, 0.0), (4642, 0.049521090624321445), (4643, 0.006858222758616939), (4644, 0.0), (4645, 0.0), (4646, 0.0), (4647, 0.031320920404967846), (4648, 0.0), (4649, 0.0), (4650, 0.03345331863702698), (4651, 0.013982384957450847), (4652, 0.0), (4653, 0.0), (4654, 0.007057136431816431), (4655, 0.0), (4656, 0.0), (4657, 0.0), (4658, 0.0), (4659, 0.016061020877745063), (4660, 0.0), (4661, 0.007992281841643552), (4662, 0.0), (4663, 0.01001001172128997), (4664, 0.021820208862723386), (4665, 0.0371339175370829), (4666, 0.0), (4667, 0.008453326124510966), (4668, 0.0), (4669, 0.02306352932373161), (4670, 0.015048149537292357), (4671, 0.007335208892623149), (4672, 0.0), (4673, 0.0), (4674, 0.0), (4675, 0.0), (4676, 0.0), (4677, 0.007754290500222626), (4678, 0.0), (4679, 0.0), (4680, 0.0), (4681, 0.0), (4682, 0.0), (4683, 0.0), (4684, 0.0), (4685, 0.0), (4686, 0.0), (4687, 0.022802696849557692), (4688, 0.0), (4689, 0.0), (4690, 0.0), (4691, 0.015602123722848629), (4692, 0.0), (4693, 0.0), (4694, 0.015962234629520282), (4695, 0.007363455784913788), (4696, 0.029694342764334265), (4697, 0.00743063052290291), (4698, 0.0), (4699, 0.0), (4700, 0.0), (4701, 0.02922668869461499), (4702, 0.018236750913547015), (4703, 0.072515810886421), (4704, 0.006601192390074408), (4705, 0.018442136763181273), (4706, 0.0), (4707, 0.022501775061023854), (4708, 0.008876020737878944), (4709, 0.0), (4710, 0.0), (4711, 0.0), (4712, 0.0), (4713, 0.020016772811097525), (4714, 0.0), (4715, 0.0), (4716, 0.0), (4717, 0.02996372805713774), (4718, 0.03738532908920571), (4719, 0.006194453861942493), (4720, 0.0), (4721, 0.0), (4722, 0.012098626429156845), (4723, 0.0), (4724, 0.0), (4725, 0.0), (4726, 0.0), (4727, 0.0052553915653699304), (4728, 0.0230090336946236), (4729, 0.0), (4730, 0.0), (4731, 0.027273490876075838), (4732, 0.0), (4733, 0.0), (4734, 0.0073702650000039205), (4735, 0.0), (4736, 0.01780995113947798), (4737, 0.0), (4738, 0.0), (4739, 0.0067521193614013585), (4740, 0.006458270144278098), (4741, 0.0), (4742, 0.0), (4743, 0.0169672330987326), (4744, 0.0), (4745, 0.015642494423017277), (4746, 0.0), (4747, 0.0), (4748, 0.0), (4749, 0.006225997971204918), (4750, 0.0), (4751, 0.00861739443905367), (4752, 0.005244156875657724), (4753, 0.0), (4754, 0.0), (4755, 0.0), (4756, 0.0), (4757, 0.0), (4758, 0.0), (4759, 0.0), (4760, 0.01701503889069638), (4761, 0.0), (4762, 0.0), (4763, 0.008404719088329559), (4764, 0.0), (4765, 0.0), (4766, 0.0), (4767, 0.0), (4768, 0.008817170131902377), (4769, 0.009265767015637506), (4770, 0.009127338903769254), (4771, 0.014793038846344387), (4772, 0.006598426560434551), (4773, 0.04310962856570005), (4774, 0.024813458889331452), (4775, 0.028703923280510444), (4776, 0.0), (4777, 0.0), (4778, 0.006261046723645796), (4779, 0.018406110431997535), (4780, 0.0), (4781, 0.006818553758149835), (4782, 0.0), (4783, 0.0), (4784, 0.009943091562188982), (4785, 0.0), (4786, 0.008392219053701258), (4787, 0.05085900349371709), (4788, 0.0), (4789, 0.0), (4790, 0.0), (4791, 0.0), (4792, 0.0), (4793, 0.0), (4794, 0.0), (4795, 0.0), (4796, 0.0), (4797, 0.0), (4798, 0.00462994331640096), (4799, 0.006570909781198965), (4800, 0.008075381897666373), (4801, 0.0), (4802, 0.05025779068901548)]\n"
          ]
        }
      ]
    },
    {
      "cell_type": "code",
      "source": [
        "score[1][0]"
      ],
      "metadata": {
        "colab": {
          "base_uri": "https://localhost:8080/"
        },
        "id": "PHmyRewibDy5",
        "outputId": "c5e7a68e-8352-4d4b-8b5c-db9ab78d0486"
      },
      "execution_count": null,
      "outputs": [
        {
          "output_type": "execute_result",
          "data": {
            "text/plain": [
              "1"
            ]
          },
          "metadata": {},
          "execution_count": 56
        }
      ]
    },
    {
      "cell_type": "code",
      "source": [
        "sorted_movies = sorted(score, key = lambda x:x[1], reverse = True)"
      ],
      "metadata": {
        "id": "KQyhrJyfbUwm"
      },
      "execution_count": null,
      "outputs": []
    },
    {
      "cell_type": "code",
      "source": [
        "x = sorted_movies[1:5]"
      ],
      "metadata": {
        "id": "X0i1ubXKbrBT"
      },
      "execution_count": null,
      "outputs": []
    },
    {
      "cell_type": "code",
      "source": [
        "Movies = []\n",
        "\n",
        "for i in x:\n",
        "  Movies.append(df.iloc[i[0]].title)\n",
        "print(Movies)"
      ],
      "metadata": {
        "colab": {
          "base_uri": "https://localhost:8080/"
        },
        "id": "MCZOzVWzbxIS",
        "outputId": "98418d56-7fcf-43b5-e808-a5734305c25b"
      },
      "execution_count": null,
      "outputs": [
        {
          "output_type": "stream",
          "name": "stdout",
          "text": [
            "['Rock Star', 'Lock, Stock and Two Smoking Barrels', \"Bill & Ted's Bogus Journey\", 'George and the Dragon']\n"
          ]
        }
      ]
    },
    {
      "cell_type": "code",
      "source": [
        "print(*Movies, sep = ',')"
      ],
      "metadata": {
        "colab": {
          "base_uri": "https://localhost:8080/"
        },
        "id": "OPCc7bd-d7MB",
        "outputId": "21af3bff-6edd-486a-a3a2-06953872f3de"
      },
      "execution_count": null,
      "outputs": [
        {
          "output_type": "stream",
          "name": "stdout",
          "text": [
            "Rock Star,Lock, Stock and Two Smoking Barrels,Bill & Ted's Bogus Journey,George and the Dragon\n"
          ]
        }
      ]
    },
    {
      "cell_type": "code",
      "source": [],
      "metadata": {
        "id": "ZLvELJm-eHXf"
      },
      "execution_count": null,
      "outputs": []
    }
  ]
}