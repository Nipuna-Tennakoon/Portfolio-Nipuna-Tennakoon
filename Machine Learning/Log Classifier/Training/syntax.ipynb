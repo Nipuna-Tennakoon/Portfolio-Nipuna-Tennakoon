{
 "cells": [
  {
   "cell_type": "code",
   "execution_count": 1,
   "metadata": {},
   "outputs": [],
   "source": [
    "logs = [('ModernCRM','nova.osapi_compute.wsgi.server [req-b9718cd8-f65e-49cc-8349-6cf7122af137 113d3a99c3da401fbd62cc2caa5b96d2 54fadb412c4e40cdbaed9335e4c35a9e - - -] 10.11.10.1 \"\"GET /v2/54fadb412c4e40cdbaed9335e4c35a9e/servers/detail HTTP/1.1\"\" status: 200 len: 1893 time: 0.2675118.'),\n",
    "            ('ModernCRM','Email service experiencing issues with sending.'),\n",
    "            ('LegacyCRM','Lead conversion failed for prospect ID 7842 due to missing contact information.'),\n",
    "            ('AnalyticsEngine',\"nova.osapi_compute.wsgi.server [req-01d570b0-78a7-4719-b7a3-429fd7dc5a3f 113d3a99c3da401fbd62cc2caa5b96d2 54fadb412c4e40cdbaed9335e4c35a9e - - -] 10.11.10.1 \"\"POST /v2/54fadb412c4e40cdbaed9335e4c35a9e/servers HTTP/1.1\"\" Status code -  202 len: 733 time: 0.5130808.\"),\n",
    "            ('','Hey bro whats up.')]\n"
   ]
  },
  {
   "cell_type": "code",
   "execution_count": 8,
   "metadata": {},
   "outputs": [
    {
     "name": "stdout",
     "output_type": "stream",
     "text": [
      "ModernCRM\n",
      "nova.osapi_compute.wsgi.server [req-b9718cd8-f65e-49cc-8349-6cf7122af137 113d3a99c3da401fbd62cc2caa5b96d2 54fadb412c4e40cdbaed9335e4c35a9e - - -] 10.11.10.1 \"\"GET /v2/54fadb412c4e40cdbaed9335e4c35a9e/servers/detail HTTP/1.1\"\" status: 200 len: 1893 time: 0.2675118.\n",
      "ModernCRM\n",
      "Email service experiencing issues with sending.\n",
      "LegacyCRM\n",
      "Lead conversion failed for prospect ID 7842 due to missing contact information.\n",
      "AnalyticsEngine\n",
      "nova.osapi_compute.wsgi.server [req-01d570b0-78a7-4719-b7a3-429fd7dc5a3f 113d3a99c3da401fbd62cc2caa5b96d2 54fadb412c4e40cdbaed9335e4c35a9e - - -] 10.11.10.1 POST /v2/54fadb412c4e40cdbaed9335e4c35a9e/servers HTTP/1.1 Status code -  202 len: 733 time: 0.5130808.\n",
      "\n",
      "Hey bro whats up.\n"
     ]
    }
   ],
   "source": [
    "for source, log in logs:\n",
    "    print(source)\n",
    "    print(log)\n",
    "    "
   ]
  },
  {
   "cell_type": "code",
   "execution_count": 5,
   "metadata": {},
   "outputs": [
    {
     "data": {
      "text/plain": [
       "'nova.osapi_compute.wsgi.server [req-b9718cd8-f65e-49cc-8349-6cf7122af137 113d3a99c3da401fbd62cc2caa5b96d2 54fadb412c4e40cdbaed9335e4c35a9e - - -] 10.11.10.1 \"\"GET /v2/54fadb412c4e40cdbaed9335e4c35a9e/servers/detail HTTP/1.1\"\" status: 200 len: 1893 time: 0.2675118.'"
      ]
     },
     "execution_count": 5,
     "metadata": {},
     "output_type": "execute_result"
    }
   ],
   "source": [
    "logs[0][1]"
   ]
  },
  {
   "cell_type": "code",
   "execution_count": 9,
   "metadata": {},
   "outputs": [
    {
     "name": "stdout",
     "output_type": "stream",
     "text": [
      "WARNING:tensorflow:From c:\\Users\\asus\\AppData\\Local\\Programs\\Python\\Python312\\Lib\\site-packages\\tf_keras\\src\\losses.py:2976: The name tf.losses.sparse_softmax_cross_entropy is deprecated. Please use tf.compat.v1.losses.sparse_softmax_cross_entropy instead.\n",
      "\n"
     ]
    }
   ],
   "source": [
    "from sentence_transformers import SentenceTransformer\n",
    "import joblib"
   ]
  },
  {
   "cell_type": "code",
   "execution_count": 11,
   "metadata": {},
   "outputs": [],
   "source": [
    "transformer_model = SentenceTransformer('all-MiniLM-L6-v2')\n",
    "#msg_embedding = transformer_model.encode(log_msg)\n",
    "classifier_model = joblib.load('../models/logistic_classifier.joblib')\n"
   ]
  },
  {
   "cell_type": "code",
   "execution_count": 12,
   "metadata": {},
   "outputs": [],
   "source": [
    "logs = ['nova.osapi_compute.wsgi.server [req-b9718cd8-f65e-49cc-8349-6cf7122af137 113d3a99c3da401fbd62cc2caa5b96d2 54fadb412c4e40cdbaed9335e4c35a9e - - -] 10.11.10.1 \"\"GET /v2/54fadb412c4e40cdbaed9335e4c35a9e/servers/detail HTTP/1.1\"\" status: 200 len: 1893 time: 0.2675118.',\n",
    "            'Email service experiencing issues with sending.',\n",
    "            'Lead conversion failed for prospect ID 7842 due to missing contact information.',\n",
    "            \"nova.osapi_compute.wsgi.server [req-01d570b0-78a7-4719-b7a3-429fd7dc5a3f 113d3a99c3da401fbd62cc2caa5b96d2 54fadb412c4e40cdbaed9335e4c35a9e - - -] 10.11.10.1 \"\"POST /v2/54fadb412c4e40cdbaed9335e4c35a9e/servers HTTP/1.1\"\" Status code -  202 len: 733 time: 0.5130808.\",\n",
    "            'Hey bro whats up.',\n",
    "            'User User123 logged in.']"
   ]
  },
  {
   "cell_type": "code",
   "execution_count": 19,
   "metadata": {},
   "outputs": [
    {
     "name": "stdout",
     "output_type": "stream",
     "text": [
      "['HTTP Status']\n"
     ]
    }
   ],
   "source": [
    "embed = transformer_model.encode(logs[0])\n",
    "a=classifier_model.predict([embed])\n",
    "print(a)"
   ]
  },
  {
   "cell_type": "code",
   "execution_count": null,
   "metadata": {},
   "outputs": [],
   "source": []
  }
 ],
 "metadata": {
  "kernelspec": {
   "display_name": "Python 3",
   "language": "python",
   "name": "python3"
  },
  "language_info": {
   "codemirror_mode": {
    "name": "ipython",
    "version": 3
   },
   "file_extension": ".py",
   "mimetype": "text/x-python",
   "name": "python",
   "nbconvert_exporter": "python",
   "pygments_lexer": "ipython3",
   "version": "3.12.4"
  }
 },
 "nbformat": 4,
 "nbformat_minor": 2
}
